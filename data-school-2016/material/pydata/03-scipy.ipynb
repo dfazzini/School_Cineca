{
 "cells": [
  {
   "cell_type": "markdown",
   "metadata": {
    "slideshow": {
     "slide_type": "slide"
    }
   },
   "source": [
    "# An overview on `scipy`\n",
    "\n",
    "Finding solutions for science in Python, using vectorized structures to solve scientific problems\n",
    "\n",
    "<br>\n",
    "\n",
    "<center>\n",
    "<h4>The Pydata stack</h4>\n",
    "<img src=\"images/scientific-python-stack.jpg\" width=\"550\">\n",
    "</center>"
   ]
  },
  {
   "cell_type": "markdown",
   "metadata": {
    "slideshow": {
     "slide_type": "subslide"
    }
   },
   "source": [
    "## Introduction\n",
    "<small>\n",
    "**SciPy** is built on top of `numpy` module, and provides a large number of higher-level scientific algorithms.\n",
    "</small>\n",
    "\n",
    "<small>\n",
    "Some of the *topics* that SciPy covers are:\n",
    "* Special functions ([scipy.special](http://docs.scipy.org/doc/scipy/reference/special.html))\n",
    "* Integration ([scipy.integrate](http://docs.scipy.org/doc/scipy/reference/integrate.html))\n",
    "* Optimization ([scipy.optimize](http://docs.scipy.org/doc/scipy/reference/optimize.html))\n",
    "* Interpolation ([scipy.interpolate](http://docs.scipy.org/doc/scipy/reference/interpolate.html))\n",
    "* Fourier Transforms ([scipy.fftpack](http://docs.scipy.org/doc/scipy/reference/fftpack.html))\n",
    "* Signal Processing ([scipy.signal](http://docs.scipy.org/doc/scipy/reference/signal.html))\n",
    "* Linear Algebra ([scipy.linalg](http://docs.scipy.org/doc/scipy/reference/linalg.html))\n",
    "* Sparse Eigenvalue Problems ([scipy.sparse](http://docs.scipy.org/doc/scipy/reference/sparse.html))\n",
    "* Statistics ([scipy.stats](http://docs.scipy.org/doc/scipy/reference/stats.html))\n",
    "* Multi-dimensional image processing ([scipy.ndimage](http://docs.scipy.org/doc/scipy/reference/ndimage.html))\n",
    "* File IO ([scipy.io](http://docs.scipy.org/doc/scipy/reference/io.html))\n",
    "\n",
    "Each of these submodules provides a number of functions and classes that can be used to solve problems in their respective topics.\n",
    "</small>"
   ]
  },
  {
   "cell_type": "markdown",
   "metadata": {
    "slideshow": {
     "slide_type": "subslide"
    }
   },
   "source": [
    "## Importing `scipy`\n",
    "\n",
    "We could start by importing everything from the `scipy` module...\n",
    "\n",
    "``` python\n",
    "# importing everything from scipy\n",
    "from scipy import *\n",
    "```\n",
    "\n",
    "**but**, if we only need to use part of the `scipy`, we can selectively include only those modules we are interested in.\n",
    "``` python\n",
    "# Example for loading only linear algebra\n",
    "import scipy.linalg as la\n",
    "```"
   ]
  },
  {
   "cell_type": "markdown",
   "metadata": {
    "slideshow": {
     "slide_type": "subslide"
    }
   },
   "source": [
    "## Special functions\n",
    "\n",
    "A large number of mathematical special functions are important for many computional physics problems\n",
    "\n",
    "To demonstrate the typical usage of special functions we will look in more detail at the **Bessel functions**"
   ]
  },
  {
   "cell_type": "code",
   "execution_count": 1,
   "metadata": {
    "collapsed": false
   },
   "outputs": [],
   "source": [
    "# jn and yn: Bessel functions of the first and second kind and real-valued order\n",
    "\n",
    "from scipy.special import jn, yn"
   ]
  },
  {
   "cell_type": "markdown",
   "metadata": {
    "slideshow": {
     "slide_type": "subslide"
    }
   },
   "source": [
    "## Bessel functions\n",
    "We should start from the most simple case: order `0`"
   ]
  },
  {
   "cell_type": "code",
   "execution_count": 2,
   "metadata": {
    "collapsed": false,
    "slideshow": {
     "slide_type": "-"
    }
   },
   "outputs": [
    {
     "name": "stdout",
     "output_type": "stream",
     "text": [
      "J_0(0.000000) = 1.000000\n",
      "Y_0(1.000000) = 0.088257\n"
     ]
    }
   ],
   "source": [
    "n = 0    # order\n",
    "\n",
    "# Bessel function of first kind\n",
    "x = 0.0\n",
    "print (\"J_%d(%f) = %f\" % (n, x, jn(n, x)))\n",
    "\n",
    "# Bessel function of second kind\n",
    "x = 1.0\n",
    "print (\"Y_%d(%f) = %f\" % (n, x, yn(n, x)))"
   ]
  },
  {
   "cell_type": "markdown",
   "metadata": {
    "slideshow": {
     "slide_type": "subslide"
    }
   },
   "source": [
    "## Drawing Bessel functions"
   ]
  },
  {
   "cell_type": "code",
   "execution_count": 3,
   "metadata": {
    "collapsed": false,
    "slideshow": {
     "slide_type": "-"
    }
   },
   "outputs": [
    {
     "data": {
      "image/png": "[encoded data removed]",
      "text/plain": [
       "<matplotlib.figure.Figure at 0x7f2f5c723550>"
      ]
     },
     "metadata": {},
     "output_type": "display_data"
    }
   ],
   "source": [
    "%matplotlib inline\n",
    "import numpy as np\n",
    "import matplotlib.pyplot as plt\n",
    "# Produce a hundred points to plot\n",
    "x = np.linspace(0, 20, 1000)\n",
    "# Get the plot elements\n",
    "fig, ax = plt.subplots()\n",
    "# Add the first four orders\n",
    "for n in range(3):\n",
    "    ax.plot(x, jn(n, x), label=r\"$J_%d(x)$\" % n)\n",
    "# Plot the legend too, defined by labels\n",
    "ax.legend();"
   ]
  },
  {
   "cell_type": "markdown",
   "metadata": {
    "slideshow": {
     "slide_type": "subslide"
    }
   },
   "source": [
    "We can compare our result with the wikipedia image:\n",
    "![bessel wiki](http://upload.wikimedia.org/wikipedia/commons/5/5d/Bessel_Functions_%281st_Kind%2C_n%3D0%2C1%2C2%29.svg)"
   ]
  },
  {
   "cell_type": "markdown",
   "metadata": {
    "slideshow": {
     "slide_type": "subslide"
    }
   },
   "source": [
    "### Do not forget to dig in for more"
   ]
  },
  {
   "cell_type": "code",
   "execution_count": 4,
   "metadata": {
    "collapsed": false,
    "slideshow": {
     "slide_type": "-"
    }
   },
   "outputs": [
    {
     "data": {
      "text/plain": [
       "['SpecialFunctionWarning',\n",
       " 'Tester',\n",
       " '__all__',\n",
       " '__builtins__',\n",
       " '__cached__',\n",
       " '__doc__',\n",
       " '__file__',\n",
       " '__loader__',\n",
       " '__name__',\n",
       " '__package__',\n",
       " '__path__',\n",
       " '__spec__',\n",
       " '_ellip_harm',\n",
       " '_ellip_harm_2',\n",
       " '_ufuncs',\n",
       " '_ufuncs_cxx',\n",
       " 'absolute_import',\n",
       " 'agm',\n",
       " 'ai_zeros',\n",
       " 'airy',\n",
       " 'airye',\n",
       " 'assoc_laguerre',\n",
       " 'basic',\n",
       " 'bdtr',\n",
       " 'bdtrc',\n",
       " 'bdtri',\n",
       " 'bdtrik',\n",
       " 'bdtrin',\n",
       " 'bei',\n",
       " 'bei_zeros',\n",
       " 'beip',\n",
       " 'beip_zeros',\n",
       " 'ber',\n",
       " 'ber_zeros',\n",
       " 'bernoulli',\n",
       " 'berp',\n",
       " 'berp_zeros',\n",
       " 'bessel_diff_formula',\n",
       " 'besselpoly',\n",
       " 'beta',\n",
       " 'betainc',\n",
       " 'betaincinv',\n",
       " 'betaln',\n",
       " 'bi_zeros',\n",
       " 'binom',\n",
       " 'boxcox',\n",
       " 'boxcox1p',\n",
       " 'btdtr',\n",
       " 'btdtri',\n",
       " 'btdtria',\n",
       " 'btdtrib',\n",
       " 'c_roots',\n",
       " 'cbrt',\n",
       " 'cg_roots',\n",
       " 'chdtr',\n",
       " 'chdtrc',\n",
       " 'chdtri',\n",
       " 'chdtriv',\n",
       " 'chebyc',\n",
       " 'chebys',\n",
       " 'chebyt',\n",
       " 'chebyu',\n",
       " 'chndtr',\n",
       " 'chndtridf',\n",
       " 'chndtrinc',\n",
       " 'chndtrix',\n",
       " 'clpmn',\n",
       " 'comb',\n",
       " 'cosdg',\n",
       " 'cosm1',\n",
       " 'cotdg',\n",
       " 'dawsn',\n",
       " 'digamma',\n",
       " 'diric',\n",
       " 'division',\n",
       " 'ellip_harm',\n",
       " 'ellip_harm_2',\n",
       " 'ellip_normal',\n",
       " 'ellipe',\n",
       " 'ellipeinc',\n",
       " 'ellipj',\n",
       " 'ellipk',\n",
       " 'ellipkinc',\n",
       " 'ellipkm1',\n",
       " 'entr',\n",
       " 'erf',\n",
       " 'erf_zeros',\n",
       " 'erfc',\n",
       " 'erfcinv',\n",
       " 'erfcx',\n",
       " 'erfi',\n",
       " 'erfinv',\n",
       " 'errprint',\n",
       " 'euler',\n",
       " 'eval_chebyc',\n",
       " 'eval_chebys',\n",
       " 'eval_chebyt',\n",
       " 'eval_chebyu',\n",
       " 'eval_gegenbauer',\n",
       " 'eval_genlaguerre',\n",
       " 'eval_hermite',\n",
       " 'eval_hermitenorm',\n",
       " 'eval_jacobi',\n",
       " 'eval_laguerre',\n",
       " 'eval_legendre',\n",
       " 'eval_sh_chebyt',\n",
       " 'eval_sh_chebyu',\n",
       " 'eval_sh_jacobi',\n",
       " 'eval_sh_legendre',\n",
       " 'exp1',\n",
       " 'exp10',\n",
       " 'exp2',\n",
       " 'expi',\n",
       " 'expit',\n",
       " 'expm1',\n",
       " 'expn',\n",
       " 'factorial',\n",
       " 'factorial2',\n",
       " 'factorialk',\n",
       " 'fdtr',\n",
       " 'fdtrc',\n",
       " 'fdtri',\n",
       " 'fdtridfd',\n",
       " 'fresnel',\n",
       " 'fresnel_zeros',\n",
       " 'fresnelc_zeros',\n",
       " 'fresnels_zeros',\n",
       " 'gamma',\n",
       " 'gammainc',\n",
       " 'gammaincc',\n",
       " 'gammainccinv',\n",
       " 'gammaincinv',\n",
       " 'gammaln',\n",
       " 'gammasgn',\n",
       " 'gdtr',\n",
       " 'gdtrc',\n",
       " 'gdtria',\n",
       " 'gdtrib',\n",
       " 'gdtrix',\n",
       " 'gegenbauer',\n",
       " 'genlaguerre',\n",
       " 'h1vp',\n",
       " 'h2vp',\n",
       " 'h_roots',\n",
       " 'hankel1',\n",
       " 'hankel1e',\n",
       " 'hankel2',\n",
       " 'hankel2e',\n",
       " 'he_roots',\n",
       " 'hermite',\n",
       " 'hermitenorm',\n",
       " 'huber',\n",
       " 'hyp0f1',\n",
       " 'hyp1f1',\n",
       " 'hyp1f2',\n",
       " 'hyp2f0',\n",
       " 'hyp2f1',\n",
       " 'hyp3f0',\n",
       " 'hyperu',\n",
       " 'i0',\n",
       " 'i0e',\n",
       " 'i1',\n",
       " 'i1e',\n",
       " 'inv_boxcox',\n",
       " 'inv_boxcox1p',\n",
       " 'it2i0k0',\n",
       " 'it2j0y0',\n",
       " 'it2struve0',\n",
       " 'itairy',\n",
       " 'iti0k0',\n",
       " 'itj0y0',\n",
       " 'itmodstruve0',\n",
       " 'itstruve0',\n",
       " 'iv',\n",
       " 'ive',\n",
       " 'ivp',\n",
       " 'j0',\n",
       " 'j1',\n",
       " 'j_roots',\n",
       " 'jacobi',\n",
       " 'jn',\n",
       " 'jn_zeros',\n",
       " 'jnjnp_zeros',\n",
       " 'jnp_zeros',\n",
       " 'jnyn_zeros',\n",
       " 'js_roots',\n",
       " 'jv',\n",
       " 'jve',\n",
       " 'jvp',\n",
       " 'k0',\n",
       " 'k0e',\n",
       " 'k1',\n",
       " 'k1e',\n",
       " 'kei',\n",
       " 'kei_zeros',\n",
       " 'keip',\n",
       " 'keip_zeros',\n",
       " 'kelvin',\n",
       " 'kelvin_zeros',\n",
       " 'ker',\n",
       " 'ker_zeros',\n",
       " 'kerp',\n",
       " 'kerp_zeros',\n",
       " 'kl_div',\n",
       " 'kn',\n",
       " 'kolmogi',\n",
       " 'kolmogorov',\n",
       " 'kv',\n",
       " 'kve',\n",
       " 'kvp',\n",
       " 'l_roots',\n",
       " 'la_roots',\n",
       " 'laguerre',\n",
       " 'lambertw',\n",
       " 'legendre',\n",
       " 'lmbda',\n",
       " 'log1p',\n",
       " 'log_ndtr',\n",
       " 'logit',\n",
       " 'lpmn',\n",
       " 'lpmv',\n",
       " 'lpn',\n",
       " 'lqmn',\n",
       " 'lqn',\n",
       " 'mathieu_a',\n",
       " 'mathieu_b',\n",
       " 'mathieu_cem',\n",
       " 'mathieu_even_coef',\n",
       " 'mathieu_modcem1',\n",
       " 'mathieu_modcem2',\n",
       " 'mathieu_modsem1',\n",
       " 'mathieu_modsem2',\n",
       " 'mathieu_odd_coef',\n",
       " 'mathieu_sem',\n",
       " 'modfresnelm',\n",
       " 'modfresnelp',\n",
       " 'modstruve',\n",
       " 'multigammaln',\n",
       " 'nbdtr',\n",
       " 'nbdtrc',\n",
       " 'nbdtri',\n",
       " 'nbdtrik',\n",
       " 'nbdtrin',\n",
       " 'ncfdtr',\n",
       " 'ncfdtri',\n",
       " 'ncfdtridfd',\n",
       " 'ncfdtridfn',\n",
       " 'ncfdtrinc',\n",
       " 'nctdtr',\n",
       " 'nctdtridf',\n",
       " 'nctdtrinc',\n",
       " 'nctdtrit',\n",
       " 'ndtr',\n",
       " 'ndtri',\n",
       " 'nrdtrimn',\n",
       " 'nrdtrisd',\n",
       " 'obl_ang1',\n",
       " 'obl_ang1_cv',\n",
       " 'obl_cv',\n",
       " 'obl_cv_seq',\n",
       " 'obl_rad1',\n",
       " 'obl_rad1_cv',\n",
       " 'obl_rad2',\n",
       " 'obl_rad2_cv',\n",
       " 'orthogonal',\n",
       " 'p_roots',\n",
       " 'pbdn_seq',\n",
       " 'pbdv',\n",
       " 'pbdv_seq',\n",
       " 'pbvv',\n",
       " 'pbvv_seq',\n",
       " 'pbwa',\n",
       " 'pdtr',\n",
       " 'pdtrc',\n",
       " 'pdtri',\n",
       " 'pdtrik',\n",
       " 'perm',\n",
       " 'poch',\n",
       " 'polygamma',\n",
       " 'print_function',\n",
       " 'pro_ang1',\n",
       " 'pro_ang1_cv',\n",
       " 'pro_cv',\n",
       " 'pro_cv_seq',\n",
       " 'pro_rad1',\n",
       " 'pro_rad1_cv',\n",
       " 'pro_rad2',\n",
       " 'pro_rad2_cv',\n",
       " 'ps_roots',\n",
       " 'pseudo_huber',\n",
       " 'psi',\n",
       " 'radian',\n",
       " 'rel_entr',\n",
       " 'rgamma',\n",
       " 'riccati_jn',\n",
       " 'riccati_yn',\n",
       " 'round',\n",
       " 's_roots',\n",
       " 'sh_chebyt',\n",
       " 'sh_chebyu',\n",
       " 'sh_jacobi',\n",
       " 'sh_legendre',\n",
       " 'shichi',\n",
       " 'sici',\n",
       " 'sinc',\n",
       " 'sindg',\n",
       " 'smirnov',\n",
       " 'smirnovi',\n",
       " 'specfun',\n",
       " 'spence',\n",
       " 'spfun_stats',\n",
       " 'sph_harm',\n",
       " 'sph_in',\n",
       " 'sph_inkn',\n",
       " 'sph_jn',\n",
       " 'sph_jnyn',\n",
       " 'sph_kn',\n",
       " 'sph_yn',\n",
       " 'stdtr',\n",
       " 'stdtridf',\n",
       " 'stdtrit',\n",
       " 'struve',\n",
       " 't_roots',\n",
       " 'tandg',\n",
       " 'test',\n",
       " 'tklmbda',\n",
       " 'ts_roots',\n",
       " 'u_roots',\n",
       " 'us_roots',\n",
       " 'wofz',\n",
       " 'xlog1py',\n",
       " 'xlogy',\n",
       " 'y0',\n",
       " 'y0_zeros',\n",
       " 'y1',\n",
       " 'y1_zeros',\n",
       " 'y1p_zeros',\n",
       " 'yn',\n",
       " 'yn_zeros',\n",
       " 'ynp_zeros',\n",
       " 'yv',\n",
       " 'yve',\n",
       " 'yvp',\n",
       " 'zeta',\n",
       " 'zetac']"
      ]
     },
     "execution_count": 4,
     "metadata": {},
     "output_type": "execute_result"
    }
   ],
   "source": [
    "import scipy as sp\n",
    "dir(sp.special)"
   ]
  },
  {
   "cell_type": "code",
   "execution_count": 5,
   "metadata": {
    "collapsed": false,
    "slideshow": {
     "slide_type": "-"
    }
   },
   "outputs": [],
   "source": [
    "?sp.special.erf"
   ]
  },
  {
   "cell_type": "markdown",
   "metadata": {
    "slideshow": {
     "slide_type": "slide"
    }
   },
   "source": [
    "# A *very* quick tour of other scipy topics\n",
    "\n",
    "Just a demo, we don't want to explain all the scientific problems"
   ]
  },
  {
   "cell_type": "markdown",
   "metadata": {
    "slideshow": {
     "slide_type": "subslide"
    }
   },
   "source": [
    "## Linear algebra"
   ]
  },
  {
   "cell_type": "markdown",
   "metadata": {
    "slideshow": {
     "slide_type": "fragment"
    }
   },
   "source": [
    "The linear algebra module contains a lot of matrix related functions, including linear equation solving, eigenvalue solvers, matrix functions (for example matrix-exponentiation), a number of different decompositions (SVD, LU, cholesky), etc. \n",
    "\n",
    "Detailed documetation is available at: http://docs.scipy.org/doc/scipy/reference/linalg.html\n",
    "\n",
    "Here we will look at how to use some of these functions:\n",
    "\n"
   ]
  },
  {
   "cell_type": "markdown",
   "metadata": {
    "slideshow": {
     "slide_type": "subslide"
    }
   },
   "source": [
    "### Linear equations system"
   ]
  },
  {
   "cell_type": "markdown",
   "metadata": {
    "slideshow": {
     "slide_type": "-"
    }
   },
   "source": [
    "A *linear equations system* is \n",
    "\n",
    "$A x = b$\n",
    "\n",
    "where $A$ is a matrix and $x,b$ are vectors."
   ]
  },
  {
   "cell_type": "code",
   "execution_count": 6,
   "metadata": {
    "collapsed": true,
    "slideshow": {
     "slide_type": "-"
    }
   },
   "outputs": [],
   "source": [
    "import numpy as np\n",
    "import scipy.linalg as la\n",
    "\n",
    "A = np.array([[1,2,3], [4,5,6], [17,8,9]])\n",
    "b = np.array([10,11,12])"
   ]
  },
  {
   "cell_type": "markdown",
   "metadata": {
    "slideshow": {
     "slide_type": "subslide"
    }
   },
   "source": [
    "### the `la.solve` method"
   ]
  },
  {
   "cell_type": "code",
   "execution_count": 7,
   "metadata": {
    "collapsed": false
   },
   "outputs": [
    {
     "name": "stdout",
     "output_type": "stream",
     "text": [
      "    Solve the equation ``a x = b`` for ``x``.\n"
     ]
    }
   ],
   "source": [
    "print(la.solve.__doc__.split(\"\\n\")[1])"
   ]
  },
  {
   "cell_type": "code",
   "execution_count": 8,
   "metadata": {
    "collapsed": false
   },
   "outputs": [
    {
     "data": {
      "text/plain": [
       "array([ -8.35932630e-16,  -9.00000000e+00,   9.33333333e+00])"
      ]
     },
     "execution_count": 8,
     "metadata": {},
     "output_type": "execute_result"
    }
   ],
   "source": [
    "x = la.solve(A, b)\n",
    "x"
   ]
  },
  {
   "cell_type": "code",
   "execution_count": 9,
   "metadata": {
    "collapsed": false,
    "slideshow": {
     "slide_type": "fragment"
    }
   },
   "outputs": [
    {
     "data": {
      "text/plain": [
       "array([  3.55271368e-15,   1.42108547e-14,   0.00000000e+00])"
      ]
     },
     "execution_count": 9,
     "metadata": {},
     "output_type": "execute_result"
    }
   ],
   "source": [
    "# check\n",
    "np.dot(A, x) - b"
   ]
  },
  {
   "cell_type": "markdown",
   "metadata": {
    "slideshow": {
     "slide_type": "subslide"
    }
   },
   "source": [
    "## another example with `la.solve`\n",
    "We can also do the same with the equation $A X = B$, where $A, B, X$ are matrices"
   ]
  },
  {
   "cell_type": "code",
   "execution_count": 10,
   "metadata": {
    "collapsed": false,
    "slideshow": {
     "slide_type": "-"
    }
   },
   "outputs": [
    {
     "data": {
      "text/plain": [
       "array([[ 1.91027055,  0.75810451,  0.52432382],\n",
       "       [-1.38068116, -0.80608353,  0.4872306 ],\n",
       "       [ 1.23954438,  1.51213388,  0.40022562]])"
      ]
     },
     "execution_count": 10,
     "metadata": {},
     "output_type": "execute_result"
    }
   ],
   "source": [
    "A = np.random.rand(3,3)\n",
    "B = np.random.rand(3,3)\n",
    "\n",
    "X = la.solve(A, B)\n",
    "X"
   ]
  },
  {
   "cell_type": "code",
   "execution_count": 11,
   "metadata": {
    "collapsed": false,
    "slideshow": {
     "slide_type": "fragment"
    }
   },
   "outputs": [
    {
     "data": {
      "text/plain": [
       "2.5172027167143304e-16"
      ]
     },
     "execution_count": 11,
     "metadata": {},
     "output_type": "execute_result"
    }
   ],
   "source": [
    "# check\n",
    "la.norm(np.dot(A, X) - B)"
   ]
  },
  {
   "cell_type": "markdown",
   "metadata": {
    "slideshow": {
     "slide_type": "subslide"
    }
   },
   "source": [
    "### Eigenvalues and eigenvectors"
   ]
  },
  {
   "cell_type": "markdown",
   "metadata": {},
   "source": [
    "The eigenvalue problem for a matrix $A$:\n",
    "\n",
    "$\\displaystyle A v_n = \\lambda_n v_n$\n",
    "\n",
    "where $v_n$ is the $n$-th eigenvector and $\\lambda_n$ is the $n$-th eigenvalue.\n",
    "\n",
    "To calculate eigenvalues of a matrix, use the `eigvals` and for calculating both eigenvalues and eigenvectors, use the function `eig`:"
   ]
  },
  {
   "cell_type": "code",
   "execution_count": 12,
   "metadata": {
    "collapsed": false,
    "slideshow": {
     "slide_type": "subslide"
    }
   },
   "outputs": [],
   "source": [
    "evals = la.eigvals(A)"
   ]
  },
  {
   "cell_type": "code",
   "execution_count": 13,
   "metadata": {
    "collapsed": false
   },
   "outputs": [
    {
     "data": {
      "text/plain": [
       "array([-0.17027715+0.j,  0.70926187+0.j,  1.23371460+0.j])"
      ]
     },
     "execution_count": 13,
     "metadata": {},
     "output_type": "execute_result"
    }
   ],
   "source": [
    "evals"
   ]
  },
  {
   "cell_type": "code",
   "execution_count": 14,
   "metadata": {
    "collapsed": false,
    "slideshow": {
     "slide_type": "subslide"
    }
   },
   "outputs": [],
   "source": [
    "evals, evecs = la.eig(A)"
   ]
  },
  {
   "cell_type": "code",
   "execution_count": 15,
   "metadata": {
    "collapsed": false
   },
   "outputs": [
    {
     "data": {
      "text/plain": [
       "array([-0.17027715+0.j,  0.70926187+0.j,  1.23371460+0.j])"
      ]
     },
     "execution_count": 15,
     "metadata": {},
     "output_type": "execute_result"
    }
   ],
   "source": [
    "evals"
   ]
  },
  {
   "cell_type": "code",
   "execution_count": 16,
   "metadata": {
    "collapsed": false
   },
   "outputs": [
    {
     "data": {
      "text/plain": [
       "array([[ 0.46080757, -0.8595175 ,  0.41952383],\n",
       "       [-0.71284513, -0.01252657,  0.33451658],\n",
       "       [ 0.52868536,  0.51095279,  0.84385924]])"
      ]
     },
     "execution_count": 16,
     "metadata": {},
     "output_type": "execute_result"
    }
   ],
   "source": [
    "evecs"
   ]
  },
  {
   "cell_type": "markdown",
   "metadata": {
    "slideshow": {
     "slide_type": "subslide"
    }
   },
   "source": [
    "The eigenvectors corresponding to the $n$-th eigenvalue (stored in `evals[n]`) is the $n$-th *column* in `evecs`, i.e., `evecs[:,n]`\n",
    "\n",
    "To verify this, let's try mutiplying eigenvectors with the matrix and compare to the product of the eigenvector and the eigenvalue:"
   ]
  },
  {
   "cell_type": "code",
   "execution_count": 17,
   "metadata": {
    "collapsed": false
   },
   "outputs": [
    {
     "data": {
      "text/plain": [
       "4.0075116032661557e-16"
      ]
     },
     "execution_count": 17,
     "metadata": {},
     "output_type": "execute_result"
    }
   ],
   "source": [
    "n = 1\n",
    "\n",
    "la.norm(np.dot(A, evecs[:,n]) - evals[n] * evecs[:,n])"
   ]
  },
  {
   "cell_type": "markdown",
   "metadata": {},
   "source": [
    "There are also more specialized eigensolvers, like the `eigh` for Hermitian matrices. "
   ]
  },
  {
   "cell_type": "markdown",
   "metadata": {
    "slideshow": {
     "slide_type": "subslide"
    }
   },
   "source": [
    "### Matrix operations"
   ]
  },
  {
   "cell_type": "code",
   "execution_count": 18,
   "metadata": {
    "collapsed": false,
    "slideshow": {
     "slide_type": "subslide"
    }
   },
   "outputs": [
    {
     "data": {
      "text/plain": [
       "array([[ 0.63558143,  3.30118931, -1.22164306],\n",
       "       [ 0.96433751, -4.14733291,  1.48595268],\n",
       "       [-0.97447588,  3.62140267, -0.14055026]])"
      ]
     },
     "execution_count": 18,
     "metadata": {},
     "output_type": "execute_result"
    }
   ],
   "source": [
    "# the matrix inverse\n",
    "la.inv(A)"
   ]
  },
  {
   "cell_type": "code",
   "execution_count": 19,
   "metadata": {
    "collapsed": false,
    "slideshow": {
     "slide_type": "subslide"
    }
   },
   "outputs": [
    {
     "data": {
      "text/plain": [
       "-0.14899706052406653"
      ]
     },
     "execution_count": 19,
     "metadata": {},
     "output_type": "execute_result"
    }
   ],
   "source": [
    "# determinant\n",
    "la.det(A)"
   ]
  },
  {
   "cell_type": "code",
   "execution_count": 20,
   "metadata": {
    "collapsed": false,
    "slideshow": {
     "slide_type": "fragment"
    }
   },
   "outputs": [
    {
     "data": {
      "text/plain": [
       "(1.390211578154579, 1.771169124222376)"
      ]
     },
     "execution_count": 20,
     "metadata": {},
     "output_type": "execute_result"
    }
   ],
   "source": [
    "# norms of various orders\n",
    "la.norm(A, ord=2), la.norm(A, ord=np.Inf)"
   ]
  },
  {
   "cell_type": "markdown",
   "metadata": {
    "slideshow": {
     "slide_type": "slide"
    }
   },
   "source": [
    "## Optimization"
   ]
  },
  {
   "cell_type": "markdown",
   "metadata": {},
   "source": [
    "Optimization (finding minima or maxima of a function) is a large field in mathematics, and optimization of complicated functions or in many variables can be rather involved. \n",
    "\n",
    "Here we will only look at a few very simple cases. \n",
    "\n",
    "For a more detailed introduction to optimization with SciPy see: http://scipy-lectures.github.com/advanced/mathematical_optimization/index.html\n",
    "\n",
    "To use the optimization module in scipy first include the `optimize` module:"
   ]
  },
  {
   "cell_type": "code",
   "execution_count": 21,
   "metadata": {
    "collapsed": false,
    "slideshow": {
     "slide_type": "fragment"
    }
   },
   "outputs": [],
   "source": [
    "from scipy import optimize\n",
    "import matplotlib.pyplot as plt"
   ]
  },
  {
   "cell_type": "markdown",
   "metadata": {
    "slideshow": {
     "slide_type": "subslide"
    }
   },
   "source": [
    "### Finding a minima\n",
    "\n",
    "Let's first look at how to find the minima of a simple function of a single variable:"
   ]
  },
  {
   "cell_type": "code",
   "execution_count": 22,
   "metadata": {
    "collapsed": false
   },
   "outputs": [
    {
     "data": {
      "image/png": "[encoded data removed]",
      "text/plain": [
       "<matplotlib.figure.Figure at 0x7f2edb0ff550>"
      ]
     },
     "metadata": {},
     "output_type": "display_data"
    }
   ],
   "source": [
    "def f(x):\n",
    "    return 4*x**3 + (x-2)**2 + x**4\n",
    "# plot f(x) in x in [-5,3)\n",
    "fig, ax  = plt.subplots()\n",
    "x = np.linspace(-5, 3, 100)\n",
    "ax.plot(x, f(x));"
   ]
  },
  {
   "cell_type": "markdown",
   "metadata": {
    "slideshow": {
     "slide_type": "subslide"
    }
   },
   "source": [
    "We can use the `fmin_bfgs` function to find the minima of a function:"
   ]
  },
  {
   "cell_type": "code",
   "execution_count": 23,
   "metadata": {
    "collapsed": false
   },
   "outputs": [
    {
     "name": "stdout",
     "output_type": "stream",
     "text": [
      "Optimization terminated successfully.\n",
      "         Current function value: -3.506641\n",
      "         Iterations: 6\n",
      "         Function evaluations: 30\n",
      "         Gradient evaluations: 10\n"
     ]
    },
    {
     "data": {
      "text/plain": [
       "array([-2.67298167])"
      ]
     },
     "execution_count": 23,
     "metadata": {},
     "output_type": "execute_result"
    }
   ],
   "source": [
    "# the first minimum\n",
    "x_min = optimize.fmin_bfgs(f, -2)\n",
    "x_min "
   ]
  },
  {
   "cell_type": "code",
   "execution_count": 24,
   "metadata": {
    "collapsed": false,
    "slideshow": {
     "slide_type": "subslide"
    }
   },
   "outputs": [
    {
     "name": "stdout",
     "output_type": "stream",
     "text": [
      "Optimization terminated successfully.\n",
      "         Current function value: 2.804988\n",
      "         Iterations: 3\n",
      "         Function evaluations: 15\n",
      "         Gradient evaluations: 5\n"
     ]
    },
    {
     "data": {
      "text/plain": [
       "array([ 0.46961745])"
      ]
     },
     "execution_count": 24,
     "metadata": {},
     "output_type": "execute_result"
    }
   ],
   "source": [
    "optimize.fmin_bfgs(f, 0.5) "
   ]
  },
  {
   "cell_type": "markdown",
   "metadata": {
    "slideshow": {
     "slide_type": "subslide"
    }
   },
   "source": [
    "### Finding a solution to an equation\n",
    "\n",
    "To find the root for a equation of the form $f(x) = 0$ we can use the `fsolve` function. It requires an initial guess: "
   ]
  },
  {
   "cell_type": "code",
   "execution_count": 25,
   "metadata": {
    "collapsed": false
   },
   "outputs": [],
   "source": [
    "omega_c = 3.0\n",
    "def f(omega):\n",
    "    # a transcendental equation: resonance frequencies of a low-Q SQUID terminated microwave resonator\n",
    "    return np.tan(2*np.pi*omega) - omega_c/omega"
   ]
  },
  {
   "cell_type": "code",
   "execution_count": 26,
   "metadata": {
    "collapsed": false,
    "slideshow": {
     "slide_type": "subslide"
    }
   },
   "outputs": [
    {
     "name": "stderr",
     "output_type": "stream",
     "text": [
      "/opt/conda/lib/python3.4/site-packages/ipykernel/__main__.py:4: RuntimeWarning: divide by zero encountered in true_divide\n"
     ]
    },
    {
     "data": {
      "image/png": "[encoded data removed]",
      "text/plain": [
       "<matplotlib.figure.Figure at 0x7f2edaca8128>"
      ]
     },
     "metadata": {},
     "output_type": "display_data"
    }
   ],
   "source": [
    "fig, ax  = plt.subplots(figsize=(10,4))\n",
    "x = np.linspace(0, 3, 1000)\n",
    "y = f(x)\n",
    "mask = np.where(abs(y) > 50)\n",
    "x[mask] = y[mask] = np.NaN # get rid of vertical line when the function flip sign\n",
    "ax.plot(x, y)\n",
    "ax.plot([0, 3], [0, 0], 'k')\n",
    "ax.set_ylim(-5,5);"
   ]
  },
  {
   "cell_type": "code",
   "execution_count": 27,
   "metadata": {
    "collapsed": false,
    "slideshow": {
     "slide_type": "subslide"
    }
   },
   "outputs": [
    {
     "data": {
      "text/plain": [
       "array([ 0.23743014])"
      ]
     },
     "execution_count": 27,
     "metadata": {},
     "output_type": "execute_result"
    }
   ],
   "source": [
    "optimize.fsolve(f, 0.1)"
   ]
  },
  {
   "cell_type": "code",
   "execution_count": 28,
   "metadata": {
    "collapsed": false,
    "slideshow": {
     "slide_type": "fragment"
    }
   },
   "outputs": [
    {
     "data": {
      "text/plain": [
       "array([ 0.71286972])"
      ]
     },
     "execution_count": 28,
     "metadata": {},
     "output_type": "execute_result"
    }
   ],
   "source": [
    "optimize.fsolve(f, 0.6)"
   ]
  },
  {
   "cell_type": "code",
   "execution_count": 29,
   "metadata": {
    "collapsed": false,
    "slideshow": {
     "slide_type": "fragment"
    }
   },
   "outputs": [
    {
     "data": {
      "text/plain": [
       "array([ 1.18990285])"
      ]
     },
     "execution_count": 29,
     "metadata": {},
     "output_type": "execute_result"
    }
   ],
   "source": [
    "optimize.fsolve(f, 1.1)"
   ]
  },
  {
   "cell_type": "markdown",
   "metadata": {
    "slideshow": {
     "slide_type": "subslide"
    }
   },
   "source": [
    "## Interpolation"
   ]
  },
  {
   "cell_type": "markdown",
   "metadata": {},
   "source": [
    "Interpolation is simple and convenient in scipy: \n",
    "\n",
    "The `interp1d` function, when given arrays describing X and Y data, returns and object that behaves like a function that can be called for an arbitrary value of x (in the range covered by X), and it returns the corresponding interpolated y value:"
   ]
  },
  {
   "cell_type": "code",
   "execution_count": 30,
   "metadata": {
    "collapsed": false,
    "slideshow": {
     "slide_type": "fragment"
    }
   },
   "outputs": [],
   "source": [
    "import scipy.interpolate as interpolate"
   ]
  },
  {
   "cell_type": "code",
   "execution_count": 31,
   "metadata": {
    "collapsed": false,
    "slideshow": {
     "slide_type": "subslide"
    }
   },
   "outputs": [],
   "source": [
    "def f(x):\n",
    "    return np.sin(x)"
   ]
  },
  {
   "cell_type": "code",
   "execution_count": 32,
   "metadata": {
    "collapsed": false,
    "slideshow": {
     "slide_type": "fragment"
    }
   },
   "outputs": [],
   "source": [
    "n = np.arange(0, 10)  \n",
    "x = np.linspace(0, 9, 1000)\n",
    "\n",
    "y_meas = f(n) + 0.05 * np.random.randn(len(n)) # simulate measurement with noise\n",
    "y_real = f(x)\n",
    "\n",
    "linear_interpolation = interpolate.interp1d(n, y_meas)\n",
    "y_interp1 = linear_interpolation(x)\n",
    "\n",
    "cubic_interpolation = interpolate.interp1d(n, y_meas, kind='cubic')\n",
    "y_interp2 = cubic_interpolation(x)"
   ]
  },
  {
   "cell_type": "code",
   "execution_count": 33,
   "metadata": {
    "collapsed": false,
    "slideshow": {
     "slide_type": "subslide"
    }
   },
   "outputs": [
    {
     "data": {
      "image/png": "[encoded data removed]",
      "text/plain": [
       "<matplotlib.figure.Figure at 0x7f2ed9e1ada0>"
      ]
     },
     "metadata": {},
     "output_type": "display_data"
    }
   ],
   "source": [
    "fig, ax = plt.subplots(figsize=(10,5))\n",
    "ax.plot(n, y_meas, 'bs', label='noisy data')\n",
    "ax.plot(x, y_real, 'k', lw=2, label='true function')\n",
    "ax.plot(x, y_interp1, 'r', label='linear interp')\n",
    "ax.plot(x, y_interp2, 'g', label='cubic interp')\n",
    "ax.legend(loc=3);"
   ]
  },
  {
   "cell_type": "markdown",
   "metadata": {
    "slideshow": {
     "slide_type": "slide"
    }
   },
   "source": [
    "# Statistics"
   ]
  },
  {
   "cell_type": "markdown",
   "metadata": {
    "slideshow": {
     "slide_type": "-"
    }
   },
   "source": [
    "\n",
    "The scipy.stats module contains a large number of statistical distributions, statistical functions and tests"
   ]
  },
  {
   "cell_type": "code",
   "execution_count": 34,
   "metadata": {
    "collapsed": true,
    "slideshow": {
     "slide_type": "fragment"
    }
   },
   "outputs": [],
   "source": [
    "from scipy import stats"
   ]
  },
  {
   "cell_type": "markdown",
   "metadata": {
    "slideshow": {
     "slide_type": "subslide"
    }
   },
   "source": [
    "For a complete documentation of its features, see http://docs.scipy.org/doc/scipy/reference/stats.html"
   ]
  },
  {
   "cell_type": "markdown",
   "metadata": {
    "slideshow": {
     "slide_type": "subslide"
    }
   },
   "source": [
    "**normal distribution**"
   ]
  },
  {
   "cell_type": "code",
   "execution_count": 35,
   "metadata": {
    "collapsed": false
   },
   "outputs": [
    {
     "data": {
      "text/plain": [
       "<bound method rv_frozen.rvs of <scipy.stats._distn_infrastructure.rv_frozen object at 0x7f2ed8e6f5f8>>"
      ]
     },
     "execution_count": 35,
     "metadata": {},
     "output_type": "execute_result"
    }
   ],
   "source": [
    "# Points\n",
    "x = np.linspace(-5,5,100)\n",
    "# Create a (continous) random variable with normal distribution\n",
    "N = stats.norm()\n",
    "N.rvs"
   ]
  },
  {
   "cell_type": "code",
   "execution_count": 36,
   "metadata": {
    "collapsed": false,
    "slideshow": {
     "slide_type": "subslide"
    }
   },
   "outputs": [
    {
     "data": {
      "text/plain": [
       "(0.0, 1.0, 1.0)"
      ]
     },
     "execution_count": 36,
     "metadata": {},
     "output_type": "execute_result"
    },
    {
     "data": {
      "image/png": "[encoded data removed]",
      "text/plain": [
       "<matplotlib.figure.Figure at 0x7f2ed8e741d0>"
      ]
     },
     "metadata": {},
     "output_type": "display_data"
    }
   ],
   "source": [
    "# Figure elements\n",
    "fig, axes = plt.subplots(3,1, sharex=True)\n",
    "\n",
    "# Plot the probability distribution function (PDF)\n",
    "axes[0].plot(x, N.pdf(x))\n",
    "\n",
    "# Plot the commulative distributin function (CDF)\n",
    "axes[1].plot(x, N.cdf(x))\n",
    "\n",
    "# Plot histogram of 1000 random realizations of the stochastic variable N\n",
    "axes[2].hist(N.rvs(size=1000), bins=50)\n",
    "\n",
    "N.mean(), N.std(), N.var() # properties"
   ]
  },
  {
   "cell_type": "markdown",
   "metadata": {
    "slideshow": {
     "slide_type": "subslide"
    }
   },
   "source": [
    "hint: *yes, we just did subplotting*"
   ]
  },
  {
   "cell_type": "markdown",
   "metadata": {
    "slideshow": {
     "slide_type": "slide"
    }
   },
   "source": [
    "## Hands-on #1\n",
    "\n",
    "Choose the scipy topic more interesting for your science field.\n",
    "\n",
    "Take a look at the documentation,\n",
    "then try to write down your data problem that could be solved with scipy.\n",
    "\n",
    "**Note**: *only ten minutes :)*"
   ]
  },
  {
   "cell_type": "markdown",
   "metadata": {
    "slideshow": {
     "slide_type": "slide"
    }
   },
   "source": [
    "# End of chapter"
   ]
  },
  {
   "cell_type": "code",
   "execution_count": 37,
   "metadata": {
    "collapsed": false,
    "scrolled": true,
    "slideshow": {
     "slide_type": "-"
    }
   },
   "outputs": [
    {
     "data": {
      "application/json": {
       "Software versions": [
        {
         "module": "Python",
         "version": "3.4.4 64bit [GCC 4.4.7 20120313 (Red Hat 4.4.7-1)]"
        },
        {
         "module": "IPython",
         "version": "4.0.3"
        },
        {
         "module": "OS",
         "version": "Linux 3.13.0 46 generic x86_64 with debian 8.4"
        },
        {
         "module": "numpy",
         "version": "1.10.2"
        },
        {
         "module": "scipy",
         "version": "0.16.1"
        },
        {
         "module": "matplotlib",
         "version": "1.4.3"
        }
       ]
      },
      "text/html": [
       "<table><tr><th>Software</th><th>Version</th></tr><tr><td>Python</td><td>3.4.4 64bit [GCC 4.4.7 20120313 (Red Hat 4.4.7-1)]</td></tr><tr><td>IPython</td><td>4.0.3</td></tr><tr><td>OS</td><td>Linux 3.13.0 46 generic x86_64 with debian 8.4</td></tr><tr><td>numpy</td><td>1.10.2</td></tr><tr><td>scipy</td><td>0.16.1</td></tr><tr><td>matplotlib</td><td>1.4.3</td></tr><tr><td colspan='2'>Fri Jun 17 07:16:39 2016 UTC</td></tr></table>"
      ],
      "text/latex": [
       "\\begin{tabular}{|l|l|}\\hline\n",
       "{\\bf Software} & {\\bf Version} \\\\ \\hline\\hline\n",
       "Python & 3.4.4 64bit [GCC 4.4.7 20120313 (Red Hat 4.4.7-1)] \\\\ \\hline\n",
       "IPython & 4.0.3 \\\\ \\hline\n",
       "OS & Linux 3.13.0 46 generic x86\\_64 with debian 8.4 \\\\ \\hline\n",
       "numpy & 1.10.2 \\\\ \\hline\n",
       "scipy & 0.16.1 \\\\ \\hline\n",
       "matplotlib & 1.4.3 \\\\ \\hline\n",
       "\\hline \\multicolumn{2}{|l|}{Fri Jun 17 07:16:39 2016 UTC} \\\\ \\hline\n",
       "\\end{tabular}\n"
      ],
      "text/plain": [
       "Software versions\n",
       "Python 3.4.4 64bit [GCC 4.4.7 20120313 (Red Hat 4.4.7-1)]\n",
       "IPython 4.0.3\n",
       "OS Linux 3.13.0 46 generic x86_64 with debian 8.4\n",
       "numpy 1.10.2\n",
       "scipy 0.16.1\n",
       "matplotlib 1.4.3\n",
       "Fri Jun 17 07:16:39 2016 UTC"
      ]
     },
     "execution_count": 37,
     "metadata": {},
     "output_type": "execute_result"
    }
   ],
   "source": [
    "%reload_ext version_information\n",
    "\n",
    "%version_information numpy, scipy, matplotlib"
   ]
  },
  {
   "cell_type": "markdown",
   "metadata": {
    "slideshow": {
     "slide_type": "subslide"
    }
   },
   "source": [
    "You can go to [next chapter](04-pandas.ipynb) now. "
   ]
  }
 ],
 "metadata": {
  "celltoolbar": "Slideshow",
  "kernelspec": {
   "display_name": "Python 3",
   "language": "python",
   "name": "python3"
  },
  "language_info": {
   "codemirror_mode": {
    "name": "ipython",
    "version": 3
   },
   "file_extension": ".py",
   "mimetype": "text/x-python",
   "name": "python",
   "nbconvert_exporter": "python",
   "pygments_lexer": "ipython3",
   "version": "3.4.4"
  }
 },
 "nbformat": 4,
 "nbformat_minor": 0
}
