{
 "cells": [
  {
   "cell_type": "code",
   "execution_count": 1,
   "metadata": {
    "collapsed": false
   },
   "outputs": [
    {
     "name": "stderr",
     "output_type": "stream",
     "text": [
      "\n",
      "Attaching package: ‘SparkR’\n",
      "\n",
      "The following objects are masked from ‘package:stats’:\n",
      "\n",
      "    cov, filter, lag, na.omit, predict, sd, var\n",
      "\n",
      "The following objects are masked from ‘package:base’:\n",
      "\n",
      "    colnames, colnames<-, intersect, rank, rbind, sample, subset,\n",
      "    summary, table, transform\n",
      "\n"
     ]
    },
    {
     "name": "stdout",
     "output_type": "stream",
     "text": [
      "Launching java with spark-submit command /usr/local/spark/bin/spark-submit   sparkr-shell /tmp/Rtmpzd5pKr/backend_port423e75dc2f28 \n"
     ]
    }
   ],
   "source": [
    "\n",
    "library(SparkR)\n",
    "sc <- sparkR.init()\n",
    "sqlContext <- sparkRSQL.init(sc)"
   ]
  },
  {
   "cell_type": "code",
   "execution_count": 2,
   "metadata": {
    "collapsed": false
   },
   "outputs": [
    {
     "data": {
      "text/html": [
       "<table>\n",
       "<thead><tr><th></th><th scope=col>eruptions</th><th scope=col>waiting</th></tr></thead>\n",
       "<tbody>\n",
       "\t<tr><th scope=row>1</th><td>3.6</td><td>79</td></tr>\n",
       "\t<tr><th scope=row>2</th><td>1.8</td><td>54</td></tr>\n",
       "\t<tr><th scope=row>3</th><td>3.333</td><td>74</td></tr>\n",
       "\t<tr><th scope=row>4</th><td>2.283</td><td>62</td></tr>\n",
       "\t<tr><th scope=row>5</th><td>4.533</td><td>85</td></tr>\n",
       "\t<tr><th scope=row>6</th><td>2.883</td><td>55</td></tr>\n",
       "</tbody>\n",
       "</table>\n"
      ],
      "text/latex": [
       "\\begin{tabular}{r|ll}\n",
       "  & eruptions & waiting\\\\\n",
       "\\hline\n",
       "\t1 & 3.6 & 79\\\\\n",
       "\t2 & 1.8 & 54\\\\\n",
       "\t3 & 3.333 & 74\\\\\n",
       "\t4 & 2.283 & 62\\\\\n",
       "\t5 & 4.533 & 85\\\\\n",
       "\t6 & 2.883 & 55\\\\\n",
       "\\end{tabular}\n"
      ],
      "text/plain": [
       "  eruptions waiting\n",
       "1     3.600      79\n",
       "2     1.800      54\n",
       "3     3.333      74\n",
       "4     2.283      62\n",
       "5     4.533      85\n",
       "6     2.883      55"
      ]
     },
     "execution_count": 2,
     "metadata": {},
     "output_type": "execute_result"
    }
   ],
   "source": [
    "df <- createDataFrame(sqlContext, faithful) \n",
    "\n",
    "# Displays the content of the DataFrame to stdout\n",
    "head(df)\n",
    "##  eruptions waiting\n",
    "##1     3.600      79\n",
    "##2     1.800      54\n",
    "##3     3.333      74"
   ]
  },
  {
   "cell_type": "code",
   "execution_count": 3,
   "metadata": {
    "collapsed": false
   },
   "outputs": [
    {
     "data": {
      "text/html": [
       "<table>\n",
       "<thead><tr><th></th><th scope=col>eruptions</th></tr></thead>\n",
       "<tbody>\n",
       "\t<tr><th scope=row>1</th><td>3.6</td></tr>\n",
       "\t<tr><th scope=row>2</th><td>1.8</td></tr>\n",
       "\t<tr><th scope=row>3</th><td>3.333</td></tr>\n",
       "\t<tr><th scope=row>4</th><td>2.283</td></tr>\n",
       "\t<tr><th scope=row>5</th><td>4.533</td></tr>\n",
       "\t<tr><th scope=row>6</th><td>2.883</td></tr>\n",
       "</tbody>\n",
       "</table>\n"
      ],
      "text/latex": [
       "\\begin{tabular}{r|l}\n",
       "  & eruptions\\\\\n",
       "\\hline\n",
       "\t1 & 3.6\\\\\n",
       "\t2 & 1.8\\\\\n",
       "\t3 & 3.333\\\\\n",
       "\t4 & 2.283\\\\\n",
       "\t5 & 4.533\\\\\n",
       "\t6 & 2.883\\\\\n",
       "\\end{tabular}\n"
      ],
      "text/plain": [
       "  eruptions\n",
       "1     3.600\n",
       "2     1.800\n",
       "3     3.333\n",
       "4     2.283\n",
       "5     4.533\n",
       "6     2.883"
      ]
     },
     "execution_count": 3,
     "metadata": {},
     "output_type": "execute_result"
    },
    {
     "data": {
      "text/html": [
       "<table>\n",
       "<thead><tr><th></th><th scope=col>eruptions</th></tr></thead>\n",
       "<tbody>\n",
       "\t<tr><th scope=row>1</th><td>3.6</td></tr>\n",
       "\t<tr><th scope=row>2</th><td>1.8</td></tr>\n",
       "\t<tr><th scope=row>3</th><td>3.333</td></tr>\n",
       "\t<tr><th scope=row>4</th><td>2.283</td></tr>\n",
       "\t<tr><th scope=row>5</th><td>4.533</td></tr>\n",
       "\t<tr><th scope=row>6</th><td>2.883</td></tr>\n",
       "</tbody>\n",
       "</table>\n"
      ],
      "text/latex": [
       "\\begin{tabular}{r|l}\n",
       "  & eruptions\\\\\n",
       "\\hline\n",
       "\t1 & 3.6\\\\\n",
       "\t2 & 1.8\\\\\n",
       "\t3 & 3.333\\\\\n",
       "\t4 & 2.283\\\\\n",
       "\t5 & 4.533\\\\\n",
       "\t6 & 2.883\\\\\n",
       "\\end{tabular}\n"
      ],
      "text/plain": [
       "  eruptions\n",
       "1     3.600\n",
       "2     1.800\n",
       "3     3.333\n",
       "4     2.283\n",
       "5     4.533\n",
       "6     2.883"
      ]
     },
     "execution_count": 3,
     "metadata": {},
     "output_type": "execute_result"
    },
    {
     "data": {
      "text/html": [
       "<table>\n",
       "<thead><tr><th></th><th scope=col>eruptions</th><th scope=col>waiting</th></tr></thead>\n",
       "<tbody>\n",
       "\t<tr><th scope=row>1</th><td>1.75</td><td>47</td></tr>\n",
       "\t<tr><th scope=row>2</th><td>1.75</td><td>47</td></tr>\n",
       "\t<tr><th scope=row>3</th><td>1.867</td><td>48</td></tr>\n",
       "\t<tr><th scope=row>4</th><td>1.75</td><td>48</td></tr>\n",
       "\t<tr><th scope=row>5</th><td>2.167</td><td>48</td></tr>\n",
       "\t<tr><th scope=row>6</th><td>2.1</td><td>49</td></tr>\n",
       "</tbody>\n",
       "</table>\n"
      ],
      "text/latex": [
       "\\begin{tabular}{r|ll}\n",
       "  & eruptions & waiting\\\\\n",
       "\\hline\n",
       "\t1 & 1.75 & 47\\\\\n",
       "\t2 & 1.75 & 47\\\\\n",
       "\t3 & 1.867 & 48\\\\\n",
       "\t4 & 1.75 & 48\\\\\n",
       "\t5 & 2.167 & 48\\\\\n",
       "\t6 & 2.1 & 49\\\\\n",
       "\\end{tabular}\n"
      ],
      "text/plain": [
       "  eruptions waiting\n",
       "1     1.750      47\n",
       "2     1.750      47\n",
       "3     1.867      48\n",
       "4     1.750      48\n",
       "5     2.167      48\n",
       "6     2.100      49"
      ]
     },
     "execution_count": 3,
     "metadata": {},
     "output_type": "execute_result"
    }
   ],
   "source": [
    "head(select(df, df$eruptions))\n",
    "##  eruptions\n",
    "##1     3.600\n",
    "##2     1.800\n",
    "##3     3.333\n",
    "\n",
    "# You can also pass in column name as strings \n",
    "head(select(df, \"eruptions\"))\n",
    "\n",
    "# Filter the DataFrame to only retain rows with wait times shorter than 50 mins\n",
    "head(filter(df, df$waiting < 50))\n",
    "##  eruptions waiting\n",
    "##1     1.750      47\n",
    "##2     1.750      47\n",
    "##3     1.867      48"
   ]
  },
  {
   "cell_type": "code",
   "execution_count": 4,
   "metadata": {
    "collapsed": false
   },
   "outputs": [
    {
     "name": "stderr",
     "output_type": "stream",
     "text": [
      "Warning message:\n",
      "In FUN(X[[i]], ...): Use Sepal_Length instead of Sepal.Length  as column nameWarning message:\n",
      "In FUN(X[[i]], ...): Use Sepal_Width instead of Sepal.Width  as column nameWarning message:\n",
      "In FUN(X[[i]], ...): Use Petal_Length instead of Petal.Length  as column nameWarning message:\n",
      "In FUN(X[[i]], ...): Use Petal_Width instead of Petal.Width  as column name"
     ]
    },
    {
     "data": {
      "text/html": [
       "<dl>\n",
       "\t<dt>$devianceResiduals</dt>\n",
       "\t\t<dd><table>\n",
       "<thead><tr><th></th><th scope=col>Min</th><th scope=col>Max</th></tr></thead>\n",
       "<tbody>\n",
       "\t<tr><th scope=row></th><td>-1.307112</td><td>1.412532</td></tr>\n",
       "</tbody>\n",
       "</table>\n",
       "</dd>\n",
       "\t<dt>$coefficients</dt>\n",
       "\t\t<dd><table>\n",
       "<thead><tr><th></th><th scope=col>Estimate</th><th scope=col>Std. Error</th><th scope=col>t value</th><th scope=col>Pr(>|t|)</th></tr></thead>\n",
       "<tbody>\n",
       "\t<tr><th scope=row>(Intercept)</th><td>2.251393</td><td>0.3697543</td><td>6.08889</td><td>9.568102e-09</td></tr>\n",
       "\t<tr><th scope=row>Sepal_Width</th><td>0.8035609</td><td>0.106339</td><td>7.556598</td><td>4.187317e-12</td></tr>\n",
       "\t<tr><th scope=row>Species_versicolor</th><td>1.458743</td><td>0.1121079</td><td>13.01195</td><td>0</td></tr>\n",
       "\t<tr><th scope=row>Species_virginica</th><td>1.946817</td><td>0.100015</td><td>19.46525</td><td>0</td></tr>\n",
       "</tbody>\n",
       "</table>\n",
       "</dd>\n",
       "</dl>\n"
      ],
      "text/latex": [
       "\\begin{description}\n",
       "\\item[\\$devianceResiduals] \\begin{tabular}{r|ll}\n",
       "  & Min & Max\\\\\n",
       "\\hline\n",
       "\t & -1.307112 & 1.412532\\\\\n",
       "\\end{tabular}\n",
       "\n",
       "\\item[\\$coefficients] \\begin{tabular}{r|llll}\n",
       "  & Estimate & Std. Error & t value & Pr(>|t|)\\\\\n",
       "\\hline\n",
       "\t(Intercept) & 2.251393 & 0.3697543 & 6.08889 & 9.568102e-09\\\\\n",
       "\tSepal_Width & 0.8035609 & 0.106339 & 7.556598 & 4.187317e-12\\\\\n",
       "\tSpecies_versicolor & 1.458743 & 0.1121079 & 13.01195 & 0\\\\\n",
       "\tSpecies_virginica & 1.946817 & 0.100015 & 19.46525 & 0\\\\\n",
       "\\end{tabular}\n",
       "\n",
       "\\end{description}\n"
      ],
      "text/markdown": [
       "$devianceResiduals\n",
       ":   1. -1.30711213300316\n",
       "2. 1.41253177691312\n",
       "\n",
       "\n",
       "\n",
       "$coefficients\n",
       ":   1. 2.25139323193006\n",
       "2. 0.803560900837206\n",
       "3. 1.45874307275088\n",
       "4. 1.94681664898009\n",
       "5. 0.369754309668265\n",
       "6. 0.106338977217801\n",
       "7. 0.112107914013234\n",
       "8. 0.100014959750408\n",
       "9. 6.08888976561208\n",
       "10. 7.55659798374185\n",
       "11. 13.0119544689654\n",
       "12. 19.4652545363059\n",
       "13. 9.56810208840864e-09\n",
       "14. 4.18731715967624e-12\n",
       "15. 0\n",
       "16. 0\n",
       "\n",
       "\n",
       "\n",
       "\n",
       "\n"
      ],
      "text/plain": [
       "$devianceResiduals\n",
       " Min       Max     \n",
       " -1.307112 1.412532\n",
       "\n",
       "$coefficients\n",
       "                   Estimate  Std. Error t value  Pr(>|t|)    \n",
       "(Intercept)        2.251393  0.3697543  6.08889  9.568102e-09\n",
       "Sepal_Width        0.8035609 0.106339   7.556598 4.187317e-12\n",
       "Species_versicolor 1.458743  0.1121079  13.01195 0           \n",
       "Species_virginica  1.946817  0.100015   19.46525 0           \n"
      ]
     },
     "execution_count": 4,
     "metadata": {},
     "output_type": "execute_result"
    },
    {
     "data": {
      "text/html": [
       "<table>\n",
       "<thead><tr><th></th><th scope=col>Sepal_Length</th><th scope=col>prediction</th></tr></thead>\n",
       "<tbody>\n",
       "\t<tr><th scope=row>1</th><td>5.1</td><td>5.063856</td></tr>\n",
       "\t<tr><th scope=row>2</th><td>4.9</td><td>4.662076</td></tr>\n",
       "\t<tr><th scope=row>3</th><td>4.7</td><td>4.822788</td></tr>\n",
       "\t<tr><th scope=row>4</th><td>4.6</td><td>4.742432</td></tr>\n",
       "\t<tr><th scope=row>5</th><td>5</td><td>5.144212</td></tr>\n",
       "\t<tr><th scope=row>6</th><td>5.4</td><td>5.385281</td></tr>\n",
       "</tbody>\n",
       "</table>\n"
      ],
      "text/latex": [
       "\\begin{tabular}{r|ll}\n",
       "  & Sepal_Length & prediction\\\\\n",
       "\\hline\n",
       "\t1 & 5.1 & 5.063856\\\\\n",
       "\t2 & 4.9 & 4.662076\\\\\n",
       "\t3 & 4.7 & 4.822788\\\\\n",
       "\t4 & 4.6 & 4.742432\\\\\n",
       "\t5 & 5 & 5.144212\\\\\n",
       "\t6 & 5.4 & 5.385281\\\\\n",
       "\\end{tabular}\n"
      ],
      "text/plain": [
       "  Sepal_Length prediction\n",
       "1          5.1   5.063856\n",
       "2          4.9   4.662076\n",
       "3          4.7   4.822788\n",
       "4          4.6   4.742432\n",
       "5          5.0   5.144212\n",
       "6          5.4   5.385281"
      ]
     },
     "execution_count": 4,
     "metadata": {},
     "output_type": "execute_result"
    }
   ],
   "source": [
    "# Create the DataFrame\n",
    "df <- createDataFrame(sqlContext, iris)\n",
    "\n",
    "# Fit a linear model over the dataset.\n",
    "model <- glm(Sepal_Length ~ Sepal_Width + Species, data = df, family = \"gaussian\")\n",
    "\n",
    "# Model coefficients are returned in a similar format to R's native glm().\n",
    "summary(model)\n",
    "##$coefficients\n",
    "##                    Estimate\n",
    "##(Intercept)        2.2513930\n",
    "##Sepal_Width        0.8035609\n",
    "##Species_versicolor 1.4587432\n",
    "##Species_virginica  1.9468169\n",
    "\n",
    "# Make predictions based on the model.\n",
    "predictions <- predict(model, newData = df)\n",
    "head(select(predictions, \"Sepal_Length\", \"prediction\"))\n",
    "##  Sepal_Length prediction\n",
    "##1          5.1   5.063856\n",
    "##2          4.9   4.662076\n",
    "##3          4.7   4.822788\n",
    "##4          4.6   4.742432\n",
    "##5          5.0   5.144212\n",
    "##6          5.4   5.385281"
   ]
  },
  {
   "cell_type": "markdown",
   "metadata": {},
   "source": [
    "checked"
   ]
  }
 ],
 "metadata": {
  "kernelspec": {
   "display_name": "R",
   "language": "R",
   "name": "ir"
  },
  "language_info": {
   "codemirror_mode": "r",
   "file_extension": ".r",
   "mimetype": "text/x-r-source",
   "name": "R",
   "pygments_lexer": "r",
   "version": "3.2.2"
  }
 },
 "nbformat": 4,
 "nbformat_minor": 0
}
