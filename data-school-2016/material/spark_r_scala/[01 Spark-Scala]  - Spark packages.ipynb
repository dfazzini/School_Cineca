{
 "cells": [
  {
   "cell_type": "markdown",
   "metadata": {},
   "source": [
    "## Spark csv package"
   ]
  },
  {
   "cell_type": "markdown",
   "metadata": {},
   "source": [
    "### Add package spark-csv"
   ]
  },
  {
   "cell_type": "code",
   "execution_count": 1,
   "metadata": {
    "collapsed": false
   },
   "outputs": [
    {
     "name": "stdout",
     "output_type": "stream",
     "text": [
      "Using cached version of spark-csv_2.10-1.3.0.jar\n",
      "Marking com.databricks:spark-csv_2.10:1.3.0 for download\n",
      "Preparing to fetch from:\n",
      "-> file:/tmp/.ivy2/\n",
      "-> https://repo1.maven.org/maven2\n",
      "-> New file at /tmp/.ivy2/https/repo1.maven.org/maven2/org/apache/commons/commons-csv/1.1/commons-csv-1.1.jar\n",
      "-> New file at /tmp/.ivy2/https/repo1.maven.org/maven2/com/univocity/univocity-parsers/1.5.1/univocity-parsers-1.5.1.jar\n",
      "-> New file at /tmp/.ivy2/https/repo1.maven.org/maven2/com/databricks/spark-csv_2.10/1.3.0/spark-csv_2.10-1.3.0.jar\n"
     ]
    }
   ],
   "source": [
    "%AddJar http://repo1.maven.org/maven2/com/databricks/spark-csv_2.10/1.3.0/spark-csv_2.10-1.3.0.jar --magic\n",
    "%AddDeps com.databricks spark-csv_2.10 1.3.0 --transitive"
   ]
  },
  {
   "cell_type": "markdown",
   "metadata": {},
   "source": [
    "### Create a dataframe from csv"
   ]
  },
  {
   "cell_type": "code",
   "execution_count": 2,
   "metadata": {
    "collapsed": false,
    "scrolled": true
   },
   "outputs": [],
   "source": [
    "import org.apache.spark.sql.SQLContext\n",
    "val sqlContext = new SQLContext(sc)\n",
    "val df = sqlContext.read.format(\"com.databricks.spark.csv\").option(\"header\", \"false\").option(\"inferSchema\", \"true\").load(\"data/iris.csv\")\n"
   ]
  },
  {
   "cell_type": "code",
   "execution_count": 3,
   "metadata": {
    "collapsed": false
   },
   "outputs": [
    {
     "data": {
      "text/plain": [
       "Array([5.1,3.5,1.4,0.2,Iris-setosa], [4.9,3.0,1.4,0.2,Iris-setosa], [4.7,3.2,1.3,0.2,Iris-setosa], [4.6,3.1,1.5,0.2,Iris-setosa], [5.0,3.6,1.4,0.2,Iris-setosa])"
      ]
     },
     "execution_count": 3,
     "metadata": {},
     "output_type": "execute_result"
    }
   ],
   "source": [
    "df.take(5)"
   ]
  },
  {
   "cell_type": "code",
   "execution_count": 4,
   "metadata": {
    "collapsed": false
   },
   "outputs": [
    {
     "data": {
      "text/plain": [
       "[C0: double, C1: double, C2: double, C3: double, C4: string]"
      ]
     },
     "execution_count": 4,
     "metadata": {},
     "output_type": "execute_result"
    }
   ],
   "source": [
    "df"
   ]
  },
  {
   "cell_type": "code",
   "execution_count": 5,
   "metadata": {
    "collapsed": false
   },
   "outputs": [
    {
     "data": {
      "text/plain": [
       "StructType(StructField(C0,DoubleType,true), StructField(C1,DoubleType,true), StructField(C2,DoubleType,true), StructField(C3,DoubleType,true), StructField(C4,StringType,true))"
      ]
     },
     "execution_count": 5,
     "metadata": {},
     "output_type": "execute_result"
    }
   ],
   "source": [
    "df.schema"
   ]
  },
  {
   "cell_type": "code",
   "execution_count": 6,
   "metadata": {
    "collapsed": false
   },
   "outputs": [
    {
     "name": "stdout",
     "output_type": "stream",
     "text": [
      "+---+---+---+---+-----------+\n",
      "| C0| C1| C2| C3|         C4|\n",
      "+---+---+---+---+-----------+\n",
      "|5.1|3.5|1.4|0.2|Iris-setosa|\n",
      "|4.9|3.0|1.4|0.2|Iris-setosa|\n",
      "|4.7|3.2|1.3|0.2|Iris-setosa|\n",
      "|4.6|3.1|1.5|0.2|Iris-setosa|\n",
      "|5.0|3.6|1.4|0.2|Iris-setosa|\n",
      "|5.4|3.9|1.7|0.4|Iris-setosa|\n",
      "|4.6|3.4|1.4|0.3|Iris-setosa|\n",
      "|5.0|3.4|1.5|0.2|Iris-setosa|\n",
      "|4.4|2.9|1.4|0.2|Iris-setosa|\n",
      "|4.9|3.1|1.5|0.1|Iris-setosa|\n",
      "|5.4|3.7|1.5|0.2|Iris-setosa|\n",
      "|4.8|3.4|1.6|0.2|Iris-setosa|\n",
      "|4.8|3.0|1.4|0.1|Iris-setosa|\n",
      "|4.3|3.0|1.1|0.1|Iris-setosa|\n",
      "|5.8|4.0|1.2|0.2|Iris-setosa|\n",
      "|5.7|4.4|1.5|0.4|Iris-setosa|\n",
      "|5.4|3.9|1.3|0.4|Iris-setosa|\n",
      "|5.1|3.5|1.4|0.3|Iris-setosa|\n",
      "|5.7|3.8|1.7|0.3|Iris-setosa|\n",
      "|5.1|3.8|1.5|0.3|Iris-setosa|\n",
      "+---+---+---+---+-----------+\n",
      "only showing top 20 rows\n",
      "\n"
     ]
    }
   ],
   "source": [
    "df.show()"
   ]
  },
  {
   "cell_type": "markdown",
   "metadata": {},
   "source": [
    "### Create a table (SQL) from a dataframe"
   ]
  },
  {
   "cell_type": "code",
   "execution_count": 7,
   "metadata": {
    "collapsed": false
   },
   "outputs": [
    {
     "name": "stdout",
     "output_type": "stream",
     "text": [
      "[5.1,3.5,1.4,0.2,Iris-setosa]\n",
      "[4.9,3.0,1.4,0.2,Iris-setosa]\n",
      "[4.7,3.2,1.3,0.2,Iris-setosa]\n",
      "[4.6,3.1,1.5,0.2,Iris-setosa]\n",
      "[5.0,3.6,1.4,0.2,Iris-setosa]\n",
      "[5.4,3.9,1.7,0.4,Iris-setosa]\n",
      "[4.6,3.4,1.4,0.3,Iris-setosa]\n",
      "[5.0,3.4,1.5,0.2,Iris-setosa]\n",
      "[4.4,2.9,1.4,0.2,Iris-setosa]\n",
      "[4.9,3.1,1.5,0.1,Iris-setosa]\n",
      "[5.4,3.7,1.5,0.2,Iris-setosa]\n",
      "[4.8,3.4,1.6,0.2,Iris-setosa]\n",
      "[4.8,3.0,1.4,0.1,Iris-setosa]\n",
      "[4.3,3.0,1.1,0.1,Iris-setosa]\n",
      "[5.8,4.0,1.2,0.2,Iris-setosa]\n",
      "[5.7,4.4,1.5,0.4,Iris-setosa]\n",
      "[5.4,3.9,1.3,0.4,Iris-setosa]\n",
      "[5.1,3.5,1.4,0.3,Iris-setosa]\n",
      "[5.7,3.8,1.7,0.3,Iris-setosa]\n",
      "[5.1,3.8,1.5,0.3,Iris-setosa]\n",
      "[5.4,3.4,1.7,0.2,Iris-setosa]\n",
      "[5.1,3.7,1.5,0.4,Iris-setosa]\n",
      "[4.6,3.6,1.0,0.2,Iris-setosa]\n",
      "[5.1,3.3,1.7,0.5,Iris-setosa]\n",
      "[4.8,3.4,1.9,0.2,Iris-setosa]\n",
      "[5.0,3.0,1.6,0.2,Iris-setosa]\n",
      "[5.0,3.4,1.6,0.4,Iris-setosa]\n",
      "[5.2,3.5,1.5,0.2,Iris-setosa]\n",
      "[5.2,3.4,1.4,0.2,Iris-setosa]\n",
      "[4.7,3.2,1.6,0.2,Iris-setosa]\n",
      "[4.8,3.1,1.6,0.2,Iris-setosa]\n",
      "[5.4,3.4,1.5,0.4,Iris-setosa]\n",
      "[5.2,4.1,1.5,0.1,Iris-setosa]\n",
      "[5.5,4.2,1.4,0.2,Iris-setosa]\n",
      "[4.9,3.1,1.5,0.2,Iris-setosa]\n",
      "[5.0,3.2,1.2,0.2,Iris-setosa]\n",
      "[5.5,3.5,1.3,0.2,Iris-setosa]\n",
      "[4.9,3.6,1.4,0.1,Iris-setosa]\n",
      "[4.4,3.0,1.3,0.2,Iris-setosa]\n",
      "[5.1,3.4,1.5,0.2,Iris-setosa]\n",
      "[5.0,3.5,1.3,0.3,Iris-setosa]\n",
      "[4.5,2.3,1.3,0.3,Iris-setosa]\n",
      "[4.4,3.2,1.3,0.2,Iris-setosa]\n",
      "[5.0,3.5,1.6,0.6,Iris-setosa]\n",
      "[5.1,3.8,1.9,0.4,Iris-setosa]\n",
      "[4.8,3.0,1.4,0.3,Iris-setosa]\n",
      "[5.1,3.8,1.6,0.2,Iris-setosa]\n",
      "[4.6,3.2,1.4,0.2,Iris-setosa]\n",
      "[5.3,3.7,1.5,0.2,Iris-setosa]\n",
      "[5.0,3.3,1.4,0.2,Iris-setosa]\n",
      "[7.0,3.2,4.7,1.4,Iris-versicolor]\n",
      "[6.4,3.2,4.5,1.5,Iris-versicolor]\n",
      "[6.9,3.1,4.9,1.5,Iris-versicolor]\n",
      "[5.5,2.3,4.0,1.3,Iris-versicolor]\n",
      "[6.5,2.8,4.6,1.5,Iris-versicolor]\n",
      "[5.7,2.8,4.5,1.3,Iris-versicolor]\n",
      "[6.3,3.3,4.7,1.6,Iris-versicolor]\n",
      "[4.9,2.4,3.3,1.0,Iris-versicolor]\n",
      "[6.6,2.9,4.6,1.3,Iris-versicolor]\n",
      "[5.2,2.7,3.9,1.4,Iris-versicolor]\n",
      "[5.0,2.0,3.5,1.0,Iris-versicolor]\n",
      "[5.9,3.0,4.2,1.5,Iris-versicolor]\n",
      "[6.0,2.2,4.0,1.0,Iris-versicolor]\n",
      "[6.1,2.9,4.7,1.4,Iris-versicolor]\n",
      "[5.6,2.9,3.6,1.3,Iris-versicolor]\n",
      "[6.7,3.1,4.4,1.4,Iris-versicolor]\n",
      "[5.6,3.0,4.5,1.5,Iris-versicolor]\n",
      "[5.8,2.7,4.1,1.0,Iris-versicolor]\n",
      "[6.2,2.2,4.5,1.5,Iris-versicolor]\n",
      "[5.6,2.5,3.9,1.1,Iris-versicolor]\n",
      "[5.9,3.2,4.8,1.8,Iris-versicolor]\n",
      "[6.1,2.8,4.0,1.3,Iris-versicolor]\n",
      "[6.3,2.5,4.9,1.5,Iris-versicolor]\n",
      "[6.1,2.8,4.7,1.2,Iris-versicolor]\n",
      "[6.4,2.9,4.3,1.3,Iris-versicolor]\n",
      "[6.6,3.0,4.4,1.4,Iris-versicolor]\n",
      "[6.8,2.8,4.8,1.4,Iris-versicolor]\n",
      "[6.7,3.0,5.0,1.7,Iris-versicolor]\n",
      "[6.0,2.9,4.5,1.5,Iris-versicolor]\n",
      "[5.7,2.6,3.5,1.0,Iris-versicolor]\n",
      "[5.5,2.4,3.8,1.1,Iris-versicolor]\n",
      "[5.5,2.4,3.7,1.0,Iris-versicolor]\n",
      "[5.8,2.7,3.9,1.2,Iris-versicolor]\n",
      "[6.0,2.7,5.1,1.6,Iris-versicolor]\n",
      "[5.4,3.0,4.5,1.5,Iris-versicolor]\n",
      "[6.0,3.4,4.5,1.6,Iris-versicolor]\n",
      "[6.7,3.1,4.7,1.5,Iris-versicolor]\n",
      "[6.3,2.3,4.4,1.3,Iris-versicolor]\n",
      "[5.6,3.0,4.1,1.3,Iris-versicolor]\n",
      "[5.5,2.5,4.0,1.3,Iris-versicolor]\n",
      "[5.5,2.6,4.4,1.2,Iris-versicolor]\n",
      "[6.1,3.0,4.6,1.4,Iris-versicolor]\n",
      "[5.8,2.6,4.0,1.2,Iris-versicolor]\n",
      "[5.0,2.3,3.3,1.0,Iris-versicolor]\n",
      "[5.6,2.7,4.2,1.3,Iris-versicolor]\n",
      "[5.7,3.0,4.2,1.2,Iris-versicolor]\n",
      "[5.7,2.9,4.2,1.3,Iris-versicolor]\n",
      "[6.2,2.9,4.3,1.3,Iris-versicolor]\n",
      "[5.1,2.5,3.0,1.1,Iris-versicolor]\n",
      "[5.7,2.8,4.1,1.3,Iris-versicolor]\n",
      "[6.3,3.3,6.0,2.5,Iris-virginica]\n",
      "[5.8,2.7,5.1,1.9,Iris-virginica]\n",
      "[7.1,3.0,5.9,2.1,Iris-virginica]\n",
      "[6.3,2.9,5.6,1.8,Iris-virginica]\n",
      "[6.5,3.0,5.8,2.2,Iris-virginica]\n",
      "[7.6,3.0,6.6,2.1,Iris-virginica]\n",
      "[4.9,2.5,4.5,1.7,Iris-virginica]\n",
      "[7.3,2.9,6.3,1.8,Iris-virginica]\n",
      "[6.7,2.5,5.8,1.8,Iris-virginica]\n",
      "[7.2,3.6,6.1,2.5,Iris-virginica]\n",
      "[6.5,3.2,5.1,2.0,Iris-virginica]\n",
      "[6.4,2.7,5.3,1.9,Iris-virginica]\n",
      "[6.8,3.0,5.5,2.1,Iris-virginica]\n",
      "[5.7,2.5,5.0,2.0,Iris-virginica]\n",
      "[5.8,2.8,5.1,2.4,Iris-virginica]\n",
      "[6.4,3.2,5.3,2.3,Iris-virginica]\n",
      "[6.5,3.0,5.5,1.8,Iris-virginica]\n",
      "[7.7,3.8,6.7,2.2,Iris-virginica]\n",
      "[7.7,2.6,6.9,2.3,Iris-virginica]\n",
      "[6.0,2.2,5.0,1.5,Iris-virginica]\n",
      "[6.9,3.2,5.7,2.3,Iris-virginica]\n",
      "[5.6,2.8,4.9,2.0,Iris-virginica]\n",
      "[7.7,2.8,6.7,2.0,Iris-virginica]\n",
      "[6.3,2.7,4.9,1.8,Iris-virginica]\n",
      "[6.7,3.3,5.7,2.1,Iris-virginica]\n",
      "[7.2,3.2,6.0,1.8,Iris-virginica]\n",
      "[6.2,2.8,4.8,1.8,Iris-virginica]\n",
      "[6.1,3.0,4.9,1.8,Iris-virginica]\n",
      "[6.4,2.8,5.6,2.1,Iris-virginica]\n",
      "[7.2,3.0,5.8,1.6,Iris-virginica]\n",
      "[7.4,2.8,6.1,1.9,Iris-virginica]\n",
      "[7.9,3.8,6.4,2.0,Iris-virginica]\n",
      "[6.4,2.8,5.6,2.2,Iris-virginica]\n",
      "[6.3,2.8,5.1,1.5,Iris-virginica]\n",
      "[6.1,2.6,5.6,1.4,Iris-virginica]\n",
      "[7.7,3.0,6.1,2.3,Iris-virginica]\n",
      "[6.3,3.4,5.6,2.4,Iris-virginica]\n",
      "[6.4,3.1,5.5,1.8,Iris-virginica]\n",
      "[6.0,3.0,4.8,1.8,Iris-virginica]\n",
      "[6.9,3.1,5.4,2.1,Iris-virginica]\n",
      "[6.7,3.1,5.6,2.4,Iris-virginica]\n",
      "[6.9,3.1,5.1,2.3,Iris-virginica]\n",
      "[5.8,2.7,5.1,1.9,Iris-virginica]\n",
      "[6.8,3.2,5.9,2.3,Iris-virginica]\n",
      "[6.7,3.3,5.7,2.5,Iris-virginica]\n",
      "[6.7,3.0,5.2,2.3,Iris-virginica]\n",
      "[6.3,2.5,5.0,1.9,Iris-virginica]\n",
      "[6.5,3.0,5.2,2.0,Iris-virginica]\n",
      "[6.2,3.4,5.4,2.3,Iris-virginica]\n",
      "[5.9,3.0,5.1,1.8,Iris-virginica]\n"
     ]
    }
   ],
   "source": [
    "df.registerTempTable(\"iris\")\n",
    "val results2 = sqlContext.sql(\"SELECT * FROM iris\")\n",
    "results2.collect().foreach(println)\n"
   ]
  },
  {
   "cell_type": "markdown",
   "metadata": {},
   "source": [
    "checked"
   ]
  }
 ],
 "metadata": {
  "kernelspec": {
   "display_name": "Apache_Toree",
   "language": "",
   "name": "apache_toree"
  },
  "language_info": {
   "name": "scala"
  }
 },
 "nbformat": 4,
 "nbformat_minor": 0
}
