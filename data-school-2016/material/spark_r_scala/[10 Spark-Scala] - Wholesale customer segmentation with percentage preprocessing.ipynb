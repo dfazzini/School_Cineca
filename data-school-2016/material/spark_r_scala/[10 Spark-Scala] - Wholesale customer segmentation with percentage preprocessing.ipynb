{
 "cells": [
  {
   "cell_type": "markdown",
   "metadata": {},
   "source": [
    "# Wholesale customer segmentation with percentage preprocessing"
   ]
  },
  {
   "cell_type": "markdown",
   "metadata": {},
   "source": [
    "### Importing libraries "
   ]
  },
  {
   "cell_type": "code",
   "execution_count": 1,
   "metadata": {
    "collapsed": true
   },
   "outputs": [],
   "source": [
    "import org.apache.spark.mllib.clustering._\n",
    "import org.apache.spark.mllib.linalg._\n",
    "import org.apache.spark.rdd._\n",
    "import org.apache.spark.{SparkConf, SparkContext}\n",
    "import org.apache.spark.SparkContext._\n",
    "import org.apache.spark.mllib.regression.LabeledPoint\n",
    "import org.apache.spark.mllib.linalg.Vectors\n",
    "import org.apache.spark.mllib.stat.{MultivariateStatisticalSummary, Statistics}\n",
    "import org.apache.spark.sql.functions._\n",
    "import sqlContext.implicits._"
   ]
  },
  {
   "cell_type": "markdown",
   "metadata": {},
   "source": [
    "### Read data from source"
   ]
  },
  {
   "cell_type": "code",
   "execution_count": 2,
   "metadata": {
    "collapsed": false
   },
   "outputs": [
    {
     "name": "stdout",
     "output_type": "stream",
     "text": [
      "2,3,12669,9656,7561,214,2674,1338\n",
      "2,3,7057,9810,9568,1762,3293,1776\n",
      "2,3,6353,8808,7684,2405,3516,7844\n",
      "1,3,13265,1196,4221,6404,507,1788\n",
      "2,3,22615,5410,7198,3915,1777,5185\n"
     ]
    },
    {
     "data": {
      "text/plain": [
       "440"
      ]
     },
     "execution_count": 2,
     "metadata": {},
     "output_type": "execute_result"
    }
   ],
   "source": [
    "var tmp =sc.textFile(\"data/customer.csv\")\n",
    "// Remove header\n",
    "var header = tmp.first\n",
    "var data = tmp.filter(x => x!=header)\n",
    "data.take(5).foreach(println)\n",
    "data.count()"
   ]
  },
  {
   "cell_type": "markdown",
   "metadata": {},
   "source": [
    "### Elaboration"
   ]
  },
  {
   "cell_type": "code",
   "execution_count": 3,
   "metadata": {
    "collapsed": false
   },
   "outputs": [],
   "source": [
    "// Split string data loaded from csv, and convert to integer\n",
    "var DataInt = data.map(x => x.split(\",\") map(_.toInt))"
   ]
  },
  {
   "cell_type": "code",
   "execution_count": 4,
   "metadata": {
    "collapsed": false
   },
   "outputs": [],
   "source": [
    "// Define function to apply to each row\n",
    "def elab(row: Array[Int]) : (Int, Int, Double, Double, Double, Double, Double, Double, Int) = {\n",
    "    var income = Array(row(2),row(3),row(4),row(5),row(6),row(7))\n",
    "    // Get total income for each channel in every region\n",
    "    var tot = income.sum\n",
    "    // Calculate percentage income for each category\n",
    "    var perc = income.map(_.toDouble *100 / tot)\n",
    "    return (row(0), row(1), perc(0), perc(1), perc(2), perc(3), perc(4), perc(5), tot)\n",
    "}"
   ]
  },
  {
   "cell_type": "code",
   "execution_count": 5,
   "metadata": {
    "collapsed": false
   },
   "outputs": [],
   "source": [
    "// Apply function\n",
    "var DataElab = DataInt.map(elab)"
   ]
  },
  {
   "cell_type": "code",
   "execution_count": 6,
   "metadata": {
    "collapsed": false
   },
   "outputs": [
    {
     "name": "stdout",
     "output_type": "stream",
     "text": [
      "Channel:2 Region:3 Fresh:37.1% Milk:28.3% Grocery:22.2% Frozen:0.6% Detergents_Paper:7.8% Delicassen:3.9% Tot:34112\n",
      "Channel:2 Region:3 Fresh:21.2% Milk:29.5% Grocery:28.8% Frozen:5.3% Detergents_Paper:9.9% Delicassen:5.3% Tot:33266\n",
      "Channel:2 Region:3 Fresh:17.4% Milk:24.1% Grocery:21.0% Frozen:6.6% Detergents_Paper:9.6% Delicassen:21.4% Tot:36610\n",
      "Channel:1 Region:3 Fresh:48.4% Milk:4.4% Grocery:15.4% Frozen:23.4% Detergents_Paper:1.9% Delicassen:6.5% Tot:27381\n",
      "Channel:2 Region:3 Fresh:49.1% Milk:11.7% Grocery:15.6% Frozen:8.5% Detergents_Paper:3.9% Delicassen:11.2% Tot:46100\n",
      "Channel:2 Region:3 Fresh:35.2% Milk:30.9% Grocery:19.2% Frozen:2.5% Detergents_Paper:6.7% Delicassen:5.4% Tot:26710\n",
      "Channel:2 Region:3 Fresh:45.8% Milk:12.1% Grocery:26.4% Frozen:1.8% Detergents_Paper:11.9% Delicassen:2.1% Tot:26465\n",
      "Channel:2 Region:3 Fresh:25.7% Milk:16.8% Grocery:31.9% Frozen:5.7% Detergents_Paper:11.3% Delicassen:8.7% Tot:29517\n",
      "Channel:1 Region:3 Fresh:31.9% Milk:19.5% Grocery:33.1% Frozen:2.3% Detergents_Paper:9.2% Delicassen:4.0% Tot:18694\n",
      "Channel:2 Region:3 Fresh:12.9% Milk:23.8% Grocery:40.5% Frozen:2.5% Detergents_Paper:15.9% Delicassen:4.5% Tot:46662\n"
     ]
    }
   ],
   "source": [
    "// Print Output\n",
    "var ArrHeader = header.split(\",\")\n",
    "DataElab.take(10).map(x =>\n",
    "    ArrHeader(0) + \":\" + x._1.toString + \" \" +\n",
    "    ArrHeader(1) + \":\" + x._2.toString + \" \" +\n",
    "    ArrHeader(2) + \":\" +  \"%3.1f\".format(x._3) + \"% \" +\n",
    "    ArrHeader(3) + \":\" +  \"%3.1f\".format(x._4) + \"% \" +\n",
    "    ArrHeader(4) + \":\" +  \"%3.1f\".format(x._5) + \"% \" +\n",
    "    ArrHeader(5) + \":\" +  \"%3.1f\".format(x._6) + \"% \" +\n",
    "    ArrHeader(6) + \":\" +  \"%3.1f\".format(x._7) + \"% \" +\n",
    "    ArrHeader(7) + \":\" +  \"%3.1f\".format(x._8) + \"% \" +\n",
    "    \"Tot:\" + x._9\n",
    ").foreach(println)"
   ]
  },
  {
   "cell_type": "code",
   "execution_count": 7,
   "metadata": {
    "collapsed": false
   },
   "outputs": [],
   "source": [
    "// Prepare input for Clustering\n",
    "var customer = DataElab.map(t=>Vectors.dense(Array(t._3,t._4,t._5,t._6,t._7,t._8)))"
   ]
  },
  {
   "cell_type": "code",
   "execution_count": 8,
   "metadata": {
    "collapsed": false
   },
   "outputs": [
    {
     "name": "stdout",
     "output_type": "stream",
     "text": [
      "[37.13942307692308,28.306754221388367,22.165220450281424,0.6273452157598499,7.838883677298312,3.922373358348968]\n",
      "[21.213851981001625,29.48956892923706,28.762099440870557,5.296699332651957,9.898995971863163,5.338784344375639]\n",
      "[17.35318219065829,24.05900027314941,20.98880087407812,6.5692433761267415,9.603933351543294,21.42583993444414]\n",
      "[48.446002702604,4.367992403491472,15.415799276870823,23.388481063511193,1.8516489536539937,6.530075599868522]\n",
      "[49.05639913232104,11.735357917570498,15.613882863340564,8.49240780911063,3.8546637744034706,11.247288503253795]\n"
     ]
    }
   ],
   "source": [
    "customer.take(5).foreach(println)"
   ]
  },
  {
   "cell_type": "markdown",
   "metadata": {},
   "source": [
    "### Perform cluster analysis"
   ]
  },
  {
   "cell_type": "code",
   "execution_count": 9,
   "metadata": {
    "collapsed": true
   },
   "outputs": [],
   "source": [
    "var numClusters = 5\n",
    "var numIterations = 10\n",
    "var model = KMeans.train(customer,numClusters,numIterations)"
   ]
  },
  {
   "cell_type": "code",
   "execution_count": 10,
   "metadata": {
    "collapsed": false
   },
   "outputs": [
    {
     "name": "stdout",
     "output_type": "stream",
     "text": [
      "[37.50162161244346,16.75122400946883,22.967569991222263,10.57693576446939,7.422499825251994,4.7801487971440695]\n",
      "[615.9146444195787,127.82138859862337,214.40346147769546,127.84838545306285,65.16960087476069,19.057762567618333]\n",
      "[440.0,440.0,440.0,440.0,440.0,440.0]\n"
     ]
    }
   ],
   "source": [
    "var summary: MultivariateStatisticalSummary = Statistics.colStats(customer)\n",
    "println(summary.mean) // a dense vector containing the mean value for each column\n",
    "println(summary.variance) // column-wise variance\n",
    "println(summary.numNonzeros) // number of nonzeros in each column"
   ]
  },
  {
   "cell_type": "code",
   "execution_count": 11,
   "metadata": {
    "collapsed": false
   },
   "outputs": [
    {
     "name": "stdout",
     "output_type": "stream",
     "text": [
      "[8.375697828618963,22.026732447718974,44.50969851443971,3.48770819620745,18.10130885368478,3.4988541593301252]\n",
      "[68.22327009170908,7.529268334515726,9.9820728720439,8.899635555971777,1.771718010102582,3.594035135656924]\n",
      "[20.922422478450688,6.459196238665622,6.403224000895555,10.634725176312548,53.30795925221091,2.2724728534646816]\n",
      "[18.627577708406868,30.883450942281087,26.529841964781834,7.975970618172758,8.4268569445827,7.556301821774747]\n",
      "[41.502299868744515,12.422263716059133,17.645115568302394,19.30348411708532,4.098627393298478,5.028209336510159]\n"
     ]
    }
   ],
   "source": [
    "model.clusterCenters.foreach(println)"
   ]
  },
  {
   "cell_type": "code",
   "execution_count": 12,
   "metadata": {
    "collapsed": true
   },
   "outputs": [],
   "source": [
    "var cusclu = model.predict(customer)"
   ]
  },
  {
   "cell_type": "code",
   "execution_count": 13,
   "metadata": {
    "collapsed": false
   },
   "outputs": [
    {
     "name": "stdout",
     "output_type": "stream",
     "text": [
      "3\n",
      "3\n",
      "3\n",
      "4\n",
      "4\n"
     ]
    }
   ],
   "source": [
    "cusclu.take(5).foreach(println)"
   ]
  },
  {
   "cell_type": "code",
   "execution_count": 14,
   "metadata": {
    "collapsed": false
   },
   "outputs": [
    {
     "name": "stdout",
     "output_type": "stream",
     "text": [
      "PMML Model:\n",
      "<?xml version=\"1.0\" encoding=\"UTF-8\" standalone=\"yes\"?>\n",
      "<PMML version=\"4.2\" xmlns=\"http://www.dmg.org/PMML-4_2\">\n",
      "    <Header description=\"k-means clustering\">\n",
      "        <Application name=\"Apache Spark MLlib\" version=\"1.6.0\"/>\n",
      "        <Timestamp>2016-06-16T09:07:35</Timestamp>\n",
      "    </Header>\n",
      "    <DataDictionary numberOfFields=\"6\">\n",
      "        <DataField name=\"field_0\" optype=\"continuous\" dataType=\"double\"/>\n",
      "        <DataField name=\"field_1\" optype=\"continuous\" dataType=\"double\"/>\n",
      "        <DataField name=\"field_2\" optype=\"continuous\" dataType=\"double\"/>\n",
      "        <DataField name=\"field_3\" optype=\"continuous\" dataType=\"double\"/>\n",
      "        <DataField name=\"field_4\" optype=\"continuous\" dataType=\"double\"/>\n",
      "        <DataField name=\"field_5\" optype=\"continuous\" dataType=\"double\"/>\n",
      "    </DataDictionary>\n",
      "    <ClusteringModel modelName=\"k-means\" functionName=\"clustering\" modelClass=\"centerBased\" numberOfClusters=\"5\">\n",
      "        <MiningSchema>\n",
      "            <MiningField name=\"field_0\" usageType=\"active\"/>\n",
      "            <MiningField name=\"field_1\" usageType=\"active\"/>\n",
      "            <MiningField name=\"field_2\" usageType=\"active\"/>\n",
      "            <MiningField name=\"field_3\" usageType=\"active\"/>\n",
      "            <MiningField name=\"field_4\" usageType=\"active\"/>\n",
      "            <MiningField name=\"field_5\" usageType=\"active\"/>\n",
      "        </MiningSchema>\n",
      "        <ComparisonMeasure kind=\"distance\">\n",
      "            <squaredEuclidean/>\n",
      "        </ComparisonMeasure>\n",
      "        <ClusteringField field=\"field_0\" compareFunction=\"absDiff\"/>\n",
      "        <ClusteringField field=\"field_1\" compareFunction=\"absDiff\"/>\n",
      "        <ClusteringField field=\"field_2\" compareFunction=\"absDiff\"/>\n",
      "        <ClusteringField field=\"field_3\" compareFunction=\"absDiff\"/>\n",
      "        <ClusteringField field=\"field_4\" compareFunction=\"absDiff\"/>\n",
      "        <ClusteringField field=\"field_5\" compareFunction=\"absDiff\"/>\n",
      "        <Cluster name=\"cluster_0\">\n",
      "            <Array n=\"6\" type=\"real\">8.375697828618963 22.026732447718974 44.50969851443971 3.48770819620745 18.10130885368478 3.4988541593301252</Array>\n",
      "        </Cluster>\n",
      "        <Cluster name=\"cluster_1\">\n",
      "            <Array n=\"6\" type=\"real\">68.22327009170908 7.529268334515726 9.9820728720439 8.899635555971777 1.771718010102582 3.594035135656924</Array>\n",
      "        </Cluster>\n",
      "        <Cluster name=\"cluster_2\">\n",
      "            <Array n=\"6\" type=\"real\">20.922422478450688 6.459196238665622 6.403224000895555 10.634725176312548 53.30795925221091 2.2724728534646816</Array>\n",
      "        </Cluster>\n",
      "        <Cluster name=\"cluster_3\">\n",
      "            <Array n=\"6\" type=\"real\">18.627577708406868 30.883450942281087 26.529841964781834 7.975970618172758 8.4268569445827 7.556301821774747</Array>\n",
      "        </Cluster>\n",
      "        <Cluster name=\"cluster_4\">\n",
      "            <Array n=\"6\" type=\"real\">41.502299868744515 12.422263716059133 17.645115568302394 19.30348411708532 4.098627393298478 5.028209336510159</Array>\n",
      "        </Cluster>\n",
      "    </ClusteringModel>\n",
      "</PMML>\n",
      "\n"
     ]
    }
   ],
   "source": [
    "println(\"PMML Model:\\n\" + model.toPMML)"
   ]
  },
  {
   "cell_type": "code",
   "execution_count": null,
   "metadata": {
    "collapsed": true
   },
   "outputs": [],
   "source": []
  }
 ],
 "metadata": {
  "kernelspec": {
   "display_name": "Apache Toree (Scala 2.10.4)",
   "language": "scala",
   "name": "scala"
  },
  "language_info": {
   "name": "scala"
  }
 },
 "nbformat": 4,
 "nbformat_minor": 0
}
