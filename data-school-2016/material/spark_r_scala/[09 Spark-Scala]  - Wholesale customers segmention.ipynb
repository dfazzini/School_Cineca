{
 "cells": [
  {
   "cell_type": "markdown",
   "metadata": {},
   "source": [
    "# Customer segmentation with K-means clustering"
   ]
  },
  {
   "cell_type": "markdown",
   "metadata": {},
   "source": [
    "### Importing MLlib libraries "
   ]
  },
  {
   "cell_type": "code",
   "execution_count": 3,
   "metadata": {
    "collapsed": false
   },
   "outputs": [
    {
     "data": {
      "text/plain": [
       "Name: Compile Error\n",
       "Message: <console>:77: error: stable identifier required, but $iwC.this.$VAL105.sqlContext.implicits found.\n",
       "         import sqlContext.implicits._\n",
       "                           ^\n",
       "StackTrace: "
      ]
     },
     "execution_count": 3,
     "metadata": {},
     "output_type": "execute_result"
    }
   ],
   "source": [
    "import org.apache.spark.mllib.clustering._\n",
    "import org.apache.spark.mllib.linalg._\n",
    "import org.apache.spark.rdd._\n",
    "import org.apache.spark.{SparkConf, SparkContext}\n",
    "import org.apache.spark.SparkContext._\n",
    "import org.apache.spark.mllib.regression.LabeledPoint\n",
    "import org.apache.spark.mllib.linalg.Vectors\n",
    "import org.apache.spark.mllib.stat.{MultivariateStatisticalSummary, Statistics}\n",
    "import org.apache.spark.sql.functions._\n",
    "import sqlContext.implicits._ "
   ]
  },
  {
   "cell_type": "markdown",
   "metadata": {},
   "source": [
    "We're going to use the wholesale customer dataset we downloaded from the Center for Machine Learning and Intelligent Systems at the University of California, Irvine. You can download the dataset from here – https://archive.ics.uci.edu/ml/datasets/Wholesale+customers#.\n",
    "\n",
    "The dataset contains 440 customers (observations) of a wholesale distributor. It includes the annual spend in monetary units on six product categories – Fresh, Milk, Grocery, Frozen, Detergents_Paper, and Delicatessen. "
   ]
  },
  {
   "cell_type": "markdown",
   "metadata": {},
   "source": [
    "### Read data and pre-processing"
   ]
  },
  {
   "cell_type": "code",
   "execution_count": 2,
   "metadata": {
    "collapsed": false
   },
   "outputs": [
    {
     "name": "stdout",
     "output_type": "stream",
     "text": [
      "Channel,Region,Fresh,Milk,Grocery,Frozen,Detergents_Paper,Delicassen\n",
      "2,3,12669,9656,7561,214,2674,1338\n",
      "2,3,7057,9810,9568,1762,3293,1776\n",
      "2,3,6353,8808,7684,2405,3516,7844\n",
      "1,3,13265,1196,4221,6404,507,1788\n"
     ]
    },
    {
     "data": {
      "text/plain": [
       "441"
      ]
     },
     "execution_count": 2,
     "metadata": {},
     "output_type": "execute_result"
    }
   ],
   "source": [
    "val data =sc.textFile(\"data/customer.csv\")\n",
    "data.take(5).foreach(println)\n",
    "data.count()"
   ]
  },
  {
   "cell_type": "code",
   "execution_count": 3,
   "metadata": {
    "collapsed": true
   },
   "outputs": [],
   "source": [
    "val header = data.first\n",
    "val temp = data.filter(l => l != header)"
   ]
  },
  {
   "cell_type": "code",
   "execution_count": 4,
   "metadata": {
    "collapsed": false
   },
   "outputs": [
    {
     "name": "stdout",
     "output_type": "stream",
     "text": [
      "2,3,12669,9656,7561,214,2674,1338\n",
      "2,3,7057,9810,9568,1762,3293,1776\n",
      "2,3,6353,8808,7684,2405,3516,7844\n",
      "1,3,13265,1196,4221,6404,507,1788\n",
      "2,3,22615,5410,7198,3915,1777,5185\n"
     ]
    }
   ],
   "source": [
    "temp.take(5).foreach(println)"
   ]
  },
  {
   "cell_type": "code",
   "execution_count": 5,
   "metadata": {
    "collapsed": false
   },
   "outputs": [],
   "source": [
    "val customer=temp.map(line=>Vectors.dense(line.split(',').slice(2,8).map(_.toDouble)))"
   ]
  },
  {
   "cell_type": "code",
   "execution_count": 6,
   "metadata": {
    "collapsed": false
   },
   "outputs": [
    {
     "name": "stdout",
     "output_type": "stream",
     "text": [
      "[12669.0,9656.0,7561.0,214.0,2674.0,1338.0]\n",
      "[7057.0,9810.0,9568.0,1762.0,3293.0,1776.0]\n",
      "[6353.0,8808.0,7684.0,2405.0,3516.0,7844.0]\n",
      "[13265.0,1196.0,4221.0,6404.0,507.0,1788.0]\n",
      "[22615.0,5410.0,7198.0,3915.0,1777.0,5185.0]\n"
     ]
    }
   ],
   "source": [
    "customer.take(5).foreach(println)"
   ]
  },
  {
   "cell_type": "markdown",
   "metadata": {},
   "source": [
    "### Perform cluster analysis"
   ]
  },
  {
   "cell_type": "code",
   "execution_count": 7,
   "metadata": {
    "collapsed": true
   },
   "outputs": [],
   "source": [
    "val numClusters = 5\n",
    "val numIterations = 10\n",
    "val model = KMeans.train(customer,numClusters,numIterations)"
   ]
  },
  {
   "cell_type": "code",
   "execution_count": 8,
   "metadata": {
    "collapsed": false
   },
   "outputs": [
    {
     "name": "stdout",
     "output_type": "stream",
     "text": [
      "[12000.297727272728,5796.265909090909,7951.277272727274,3071.931818181818,2881.493181818182,1524.8704545454548]\n",
      "[1.5995492742140704E8,5.44699672389263E7,9.03101037543798E7,2.3567853166183483E7,2.2732436036399867E7,7952997.497986122]\n",
      "[440.0,440.0,440.0,440.0,440.0,440.0]\n"
     ]
    }
   ],
   "source": [
    "val summary: MultivariateStatisticalSummary = Statistics.colStats(customer)\n",
    "println(summary.mean) // a dense vector containing the mean value for each column\n",
    "println(summary.variance) // column-wise variance\n",
    "println(summary.numNonzeros) // number of nonzeros in each column"
   ]
  },
  {
   "cell_type": "code",
   "execution_count": 9,
   "metadata": {
    "collapsed": false
   },
   "outputs": [
    {
     "name": "stdout",
     "output_type": "stream",
     "text": [
      "[8569.241258741258,3211.3811188811187,4121.104895104895,2745.527972027972,1183.2272727272727,1052.4195804195804]\n",
      "[34782.0,30367.0,16898.0,48701.5,755.5,26776.0]\n",
      "[5176.25,12308.75,19113.214285714286,1655.0595238095236,8426.45238095238,1980.7142857142856]\n",
      "[34872.12698412698,5078.253968253968,5924.746031746032,5028.9047619047615,1115.079365079365,2166.269841269841]\n",
      "[25603.0,43460.600000000006,61472.200000000004,2636.0,29974.2,2708.8]\n"
     ]
    }
   ],
   "source": [
    "model.clusterCenters.foreach(println)"
   ]
  },
  {
   "cell_type": "code",
   "execution_count": 10,
   "metadata": {
    "collapsed": true
   },
   "outputs": [],
   "source": [
    "val cusclu = model.predict(customer)"
   ]
  },
  {
   "cell_type": "code",
   "execution_count": 11,
   "metadata": {
    "collapsed": false
   },
   "outputs": [
    {
     "name": "stdout",
     "output_type": "stream",
     "text": [
      "0\n",
      "0\n",
      "0\n",
      "0\n",
      "3\n"
     ]
    }
   ],
   "source": [
    "cusclu.take(5).foreach(println)"
   ]
  },
  {
   "cell_type": "code",
   "execution_count": 12,
   "metadata": {
    "collapsed": false
   },
   "outputs": [
    {
     "name": "stdout",
     "output_type": "stream",
     "text": [
      "PMML Model:\n",
      "<?xml version=\"1.0\" encoding=\"UTF-8\" standalone=\"yes\"?>\n",
      "<PMML version=\"4.2\" xmlns=\"http://www.dmg.org/PMML-4_2\">\n",
      "    <Header description=\"k-means clustering\">\n",
      "        <Application name=\"Apache Spark MLlib\" version=\"1.6.0\"/>\n",
      "        <Timestamp>2016-03-23T09:00:41</Timestamp>\n",
      "    </Header>\n",
      "    <DataDictionary numberOfFields=\"6\">\n",
      "        <DataField name=\"field_0\" optype=\"continuous\" dataType=\"double\"/>\n",
      "        <DataField name=\"field_1\" optype=\"continuous\" dataType=\"double\"/>\n",
      "        <DataField name=\"field_2\" optype=\"continuous\" dataType=\"double\"/>\n",
      "        <DataField name=\"field_3\" optype=\"continuous\" dataType=\"double\"/>\n",
      "        <DataField name=\"field_4\" optype=\"continuous\" dataType=\"double\"/>\n",
      "        <DataField name=\"field_5\" optype=\"continuous\" dataType=\"double\"/>\n",
      "    </DataDictionary>\n",
      "    <ClusteringModel modelName=\"k-means\" functionName=\"clustering\" modelClass=\"centerBased\" numberOfClusters=\"5\">\n",
      "        <MiningSchema>\n",
      "            <MiningField name=\"field_0\" usageType=\"active\"/>\n",
      "            <MiningField name=\"field_1\" usageType=\"active\"/>\n",
      "            <MiningField name=\"field_2\" usageType=\"active\"/>\n",
      "            <MiningField name=\"field_3\" usageType=\"active\"/>\n",
      "            <MiningField name=\"field_4\" usageType=\"active\"/>\n",
      "            <MiningField name=\"field_5\" usageType=\"active\"/>\n",
      "        </MiningSchema>\n",
      "        <ComparisonMeasure kind=\"distance\">\n",
      "            <squaredEuclidean/>\n",
      "        </ComparisonMeasure>\n",
      "        <ClusteringField field=\"field_0\" compareFunction=\"absDiff\"/>\n",
      "        <ClusteringField field=\"field_1\" compareFunction=\"absDiff\"/>\n",
      "        <ClusteringField field=\"field_2\" compareFunction=\"absDiff\"/>\n",
      "        <ClusteringField field=\"field_3\" compareFunction=\"absDiff\"/>\n",
      "        <ClusteringField field=\"field_4\" compareFunction=\"absDiff\"/>\n",
      "        <ClusteringField field=\"field_5\" compareFunction=\"absDiff\"/>\n",
      "        <Cluster name=\"cluster_0\">\n",
      "            <Array n=\"6\" type=\"real\">8569.241258741258 3211.3811188811187 4121.104895104895 2745.527972027972 1183.2272727272727 1052.4195804195804</Array>\n",
      "        </Cluster>\n",
      "        <Cluster name=\"cluster_1\">\n",
      "            <Array n=\"6\" type=\"real\">34782.0 30367.0 16898.0 48701.5 755.5 26776.0</Array>\n",
      "        </Cluster>\n",
      "        <Cluster name=\"cluster_2\">\n",
      "            <Array n=\"6\" type=\"real\">5176.25 12308.75 19113.214285714286 1655.0595238095236 8426.45238095238 1980.7142857142856</Array>\n",
      "        </Cluster>\n",
      "        <Cluster name=\"cluster_3\">\n",
      "            <Array n=\"6\" type=\"real\">34872.12698412698 5078.253968253968 5924.746031746032 5028.9047619047615 1115.079365079365 2166.269841269841</Array>\n",
      "        </Cluster>\n",
      "        <Cluster name=\"cluster_4\">\n",
      "            <Array n=\"6\" type=\"real\">25603.0 43460.600000000006 61472.200000000004 2636.0 29974.2 2708.8</Array>\n",
      "        </Cluster>\n",
      "    </ClusteringModel>\n",
      "</PMML>\n",
      "\n"
     ]
    }
   ],
   "source": [
    "println(\"PMML Model:\\n\" + model.toPMML)"
   ]
  },
  {
   "cell_type": "markdown",
   "metadata": {
    "collapsed": true
   },
   "source": [
    "checked"
   ]
  }
 ],
 "metadata": {
  "kernelspec": {
   "display_name": "Apache Toree - Scala",
   "language": "scala",
   "name": "apache_toree_scala"
  },
  "language_info": {
   "name": "scala"
  },
  "widgets": {
   "state": {},
   "version": "1.1.2"
  }
 },
 "nbformat": 4,
 "nbformat_minor": 0
}
