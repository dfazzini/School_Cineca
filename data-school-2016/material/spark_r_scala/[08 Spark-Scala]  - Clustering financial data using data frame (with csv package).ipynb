{
 "cells": [
  {
   "cell_type": "markdown",
   "metadata": {},
   "source": [
    "# Clustering financial data using dataframe"
   ]
  },
  {
   "cell_type": "markdown",
   "metadata": {},
   "source": [
    "### Importing MLlib libraries"
   ]
  },
  {
   "cell_type": "code",
   "execution_count": null,
   "metadata": {
    "collapsed": false
   },
   "outputs": [],
   "source": [
    "                                                                                                                                                                                                                                                                                                                                                                                                                                                                                                                                                                                                                        import org.apache.spark.mllib.linalg.Vectors\n",
    "import org.apache.spark.mllib.clustering.KMeans\n",
    "import org.apache.spark.sql.functions._\n",
    "import sqlContext.implicits._\n",
    "import org.apache.spark.sql.SQLContext\n",
    "%AddJar http://repo1.maven.org/maven2/com/databricks/spark-csv_2.10/1.3.0/spark-csv_2.10-1.3.0.jar --magic\n",
    "%AddDeps com.databricks spark-csv_2.10 1.3.0 --transitive"
   ]
  },
  {
   "cell_type": "markdown",
   "metadata": {},
   "source": [
    "### Read data and pre-processing"
   ]
  },
  {
   "cell_type": "markdown",
   "metadata": {},
   "source": [
    "The data that we are going to use in this example is stock market data with the ConnorsRSI indicator. ConnorsRSI is a composite indicator made up from RSI_CLOSE_3, PERCENT_RANK_100, and RSI_STREAK_2. We will use these attributes as well as the actual ConnorsRSI (CRSI) and RSI2 to pass into  KMeans algorithm. The calculation of this data is already normalized from 0 to 100.\n",
    "The other columns like ID, LABEL, RTN5, FIVE_DAY_GL, and CLOSE we will use to do further analysis once we cluster the instances. They will not be passed into the KMeans algorithm."
   ]
  },
  {
   "cell_type": "code",
   "execution_count": null,
   "metadata": {
    "collapsed": false
   },
   "outputs": [],
   "source": [
    "// load file and remove header\n",
    "import org.apache.spark.sql.SQLContext\n",
    "val sqlContext = new SQLContext(sc)\n",
    "val allDF = sqlContext.read.format(\"com.databricks.spark.csv\").option(\"header\", \"true\").option(\"inferSchema\", \"true\").load(\"data/spykmeans.csv\")\n",
    "\n",
    "allDF.show()\n",
    "allDF.schema"
   ]
  },
  {
   "cell_type": "markdown",
   "metadata": {},
   "source": [
    "### RDD / Dataframe conversions"
   ]
  },
  {
   "cell_type": "code",
   "execution_count": null,
   "metadata": {
    "collapsed": false
   },
   "outputs": [],
   "source": [
    "// convert to rdd and cache the data\n",
    "\n",
    "val rowsRDD = allDF.rdd.map(r => (r.getString(0), r.getString(1), r.getDouble(2),\n",
    "                                  r.getDouble(3), r.getDouble(4), r.getDouble(5), r.getDouble(6),\n",
    "                                  r.getInt(7), r.getDouble(8), r.getDouble(9) ))\n",
    "\n",
    "rowsRDD.cache()\n",
    "\n",
    "// convert data to RDD which will be passed to KMeans and cache the data. We are passing in RSI2, RSI_CLOSE_3, PERCENT_RANK_100,\n",
    "// RSI_STREAK_2 and CRSI to KMeans. These are the attributes we want to use to assign the instance to a cluster\n",
    "\n",
    "val vectors = allDF.rdd.map(r => Vectors.dense( r.getDouble(5),r.getDouble(6),\n",
    "                                               r.getInt(7), r.getDouble(8), r.getDouble(9) ))\n",
    "\n",
    "\n"
   ]
  },
  {
   "cell_type": "code",
   "execution_count": null,
   "metadata": {
    "collapsed": false
   },
   "outputs": [],
   "source": [
    "rowsRDD.take(5).foreach(println)"
   ]
  },
  {
   "cell_type": "markdown",
   "metadata": {},
   "source": [
    "### Run cluster analysis"
   ]
  },
  {
   "cell_type": "code",
   "execution_count": null,
   "metadata": {
    "collapsed": false
   },
   "outputs": [],
   "source": [
    "import sqlContext.implicits._\n",
    "//KMeans model with 2 clusters and 20 iterations\n",
    "\n",
    "val kMeansModel = KMeans.train(vectors, 2, 20)\n",
    "\n",
    "//Print the center of each cluster\n",
    "\n",
    "kMeansModel.clusterCenters.foreach(println)\n",
    "\n",
    "// Get the prediction from the model with the ID so we can link them back to other information\n",
    "\n",
    "val predictions = rowsRDD.map{r => (r._1, kMeansModel.predict(Vectors.dense(r._6, r._7, r._8, r._9, r._10) ))}\n",
    "predictions.take(5).foreach(println)\n",
    "// convert the rdd to a dataframe\n",
    "val predDF = predictions.toDF(\"ID\",\"CLUSTER\")\n"
   ]
  },
  {
   "cell_type": "markdown",
   "metadata": {},
   "source": [
    "### Join the dataframes on ID"
   ]
  },
  {
   "cell_type": "code",
   "execution_count": null,
   "metadata": {
    "collapsed": false
   },
   "outputs": [],
   "source": [
    "val t = allDF.join(predDF, \"ID\")\n",
    "t.printSchema()"
   ]
  },
  {
   "cell_type": "markdown",
   "metadata": {},
   "source": [
    "### Review a subset of each cluster"
   ]
  },
  {
   "cell_type": "code",
   "execution_count": null,
   "metadata": {
    "collapsed": false
   },
   "outputs": [],
   "source": [
    "t.filter(\"CLUSTER = 0\").show()\n",
    "t.filter(\"CLUSTER = 1\").show()"
   ]
  },
  {
   "cell_type": "markdown",
   "metadata": {},
   "source": [
    "### Get descriptive statistics for each cluster"
   ]
  },
  {
   "cell_type": "code",
   "execution_count": null,
   "metadata": {
    "collapsed": false
   },
   "outputs": [],
   "source": [
    "t.filter(\"CLUSTER = 0\").describe(\"RTN5\",\"FIVE_DAY_GL\",\"CLOSE\",\"RSI2\",\"RSI_CLOSE_3\").show()\n",
    "t.filter(\"CLUSTER = 0\").describe(\"PERCENT_RANK_100\",\"RSI_STREAK_2\",\"CRSI\",\"CLUSTER\").show()\n",
    "t.filter(\"CLUSTER = 1\").describe(\"RTN5\",\"FIVE_DAY_GL\",\"CLOSE\",\"RSI2\",\"RSI_CLOSE_3\").show()\n",
    "t.filter(\"CLUSTER = 1\").describe(\"PERCENT_RANK_100\",\"RSI_STREAK_2\",\"CRSI\",\"CLUSTER\").show()"
   ]
  },
  {
   "cell_type": "markdown",
   "metadata": {},
   "source": [
    "checked"
   ]
  }
 ],
 "metadata": {
  "kernelspec": {
   "display_name": "Apache Toree (Scala 2.10.4)",
   "language": "scala",
   "name": "scala"
  },
  "language_info": {
   "name": "scala"
  },
  "widgets": {
   "state": {},
   "version": "1.1.2"
  }
 },
 "nbformat": 4,
 "nbformat_minor": 0
}
