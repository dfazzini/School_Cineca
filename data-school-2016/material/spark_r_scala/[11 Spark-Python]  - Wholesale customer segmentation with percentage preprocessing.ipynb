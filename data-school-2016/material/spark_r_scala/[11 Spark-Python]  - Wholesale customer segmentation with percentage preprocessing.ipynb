{
 "cells": [
  {
   "cell_type": "markdown",
   "metadata": {},
   "source": [
    "# Wholesale customer segmentation with percentage preprocessing"
   ]
  },
  {
   "cell_type": "markdown",
   "metadata": {},
   "source": [
    "### Importing libraries"
   ]
  },
  {
   "cell_type": "code",
   "execution_count": 1,
   "metadata": {
    "collapsed": false
   },
   "outputs": [],
   "source": [
    "import pyspark.mllib.clustering\n",
    "from pyspark.mllib.clustering import KMeans\n",
    "import pyspark.mllib.linalg\n",
    "from pyspark.mllib.linalg import Vectors\n",
    "from pyspark.mllib.stat import MultivariateStatisticalSummary\n",
    "from pyspark.mllib.stat import Statistics\n",
    "from pyspark import SparkConf, SparkContext"
   ]
  },
  {
   "cell_type": "markdown",
   "metadata": {},
   "source": [
    "### Read data from source"
   ]
  },
  {
   "cell_type": "code",
   "execution_count": 2,
   "metadata": {
    "collapsed": false
   },
   "outputs": [],
   "source": [
    "# Init spark context\n",
    "try:\n",
    "    sc\n",
    "except NameError:\n",
    "    conf = SparkConf()\n",
    "    sc = SparkContext(conf=conf)\n",
    "else:\n",
    "    print('sc already exits')"
   ]
  },
  {
   "cell_type": "code",
   "execution_count": 3,
   "metadata": {
    "collapsed": false
   },
   "outputs": [
    {
     "name": "stdout",
     "output_type": "stream",
     "text": [
      "2,3,12669,9656,7561,214,2674,1338\n",
      "2,3,7057,9810,9568,1762,3293,1776\n",
      "2,3,6353,8808,7684,2405,3516,7844\n",
      "1,3,13265,1196,4221,6404,507,1788\n",
      "2,3,22615,5410,7198,3915,1777,5185\n"
     ]
    },
    {
     "data": {
      "text/plain": [
       "440"
      ]
     },
     "execution_count": 3,
     "metadata": {},
     "output_type": "execute_result"
    }
   ],
   "source": [
    "tmp =sc.textFile(\"data/customer.csv\")\n",
    "# Remove header\n",
    "header = tmp.first()\n",
    "data = tmp.filter(lambda x : x!=header)\n",
    "for r in data.take(5):\n",
    "    print(r)\n",
    "data.count()"
   ]
  },
  {
   "cell_type": "markdown",
   "metadata": {},
   "source": [
    "### Elaboration"
   ]
  },
  {
   "cell_type": "code",
   "execution_count": 4,
   "metadata": {
    "collapsed": false
   },
   "outputs": [],
   "source": [
    "# Define function to apply to each row\n",
    "def elab(row):\n",
    "    splitted = row.split(\",\")\n",
    "    l = []\n",
    "    \n",
    "    # Converstion to integer\n",
    "    for v in splitted:\n",
    "        l.append(int(v))\n",
    "    \n",
    "    # Get total income for each channel in every region\n",
    "    tot = 0\n",
    "    for v in l[2:]:\n",
    "        tot += v\n",
    "    \n",
    "    # Calculate percentage income for each category\n",
    "    perc = []\n",
    "    for v in l[2:]:\n",
    "        perc.append(float(v) * 100 / tot)\n",
    "    \n",
    "    return (l[0],l[1],perc[0],perc[1],perc[2],perc[3],perc[4],perc[5],tot)"
   ]
  },
  {
   "cell_type": "code",
   "execution_count": 5,
   "metadata": {
    "collapsed": false
   },
   "outputs": [],
   "source": [
    "# Apply function\n",
    "DataElab = data.map(elab)"
   ]
  },
  {
   "cell_type": "code",
   "execution_count": 6,
   "metadata": {
    "collapsed": false
   },
   "outputs": [
    {
     "name": "stdout",
     "output_type": "stream",
     "text": [
      "Channel:2 Region:3 Fresh:37.1% Milk:28.3% Grocery:22.2% Frozen:0.6% Detergents_Paper:7.8% Delicassen:3.9% Tot:34112\n",
      "Channel:2 Region:3 Fresh:21.2% Milk:29.5% Grocery:28.8% Frozen:5.3% Detergents_Paper:9.9% Delicassen:5.3% Tot:33266\n",
      "Channel:2 Region:3 Fresh:17.4% Milk:24.1% Grocery:21.0% Frozen:6.6% Detergents_Paper:9.6% Delicassen:21.4% Tot:36610\n",
      "Channel:1 Region:3 Fresh:48.4% Milk:4.4% Grocery:15.4% Frozen:23.4% Detergents_Paper:1.9% Delicassen:6.5% Tot:27381\n",
      "Channel:2 Region:3 Fresh:49.1% Milk:11.7% Grocery:15.6% Frozen:8.5% Detergents_Paper:3.9% Delicassen:11.2% Tot:46100\n",
      "Channel:2 Region:3 Fresh:35.2% Milk:30.9% Grocery:19.2% Frozen:2.5% Detergents_Paper:6.7% Delicassen:5.4% Tot:26710\n",
      "Channel:2 Region:3 Fresh:45.8% Milk:12.1% Grocery:26.4% Frozen:1.8% Detergents_Paper:11.9% Delicassen:2.1% Tot:26465\n",
      "Channel:2 Region:3 Fresh:25.7% Milk:16.8% Grocery:31.9% Frozen:5.7% Detergents_Paper:11.3% Delicassen:8.7% Tot:29517\n",
      "Channel:1 Region:3 Fresh:31.9% Milk:19.5% Grocery:33.1% Frozen:2.3% Detergents_Paper:9.2% Delicassen:4.0% Tot:18694\n",
      "Channel:2 Region:3 Fresh:12.9% Milk:23.8% Grocery:40.5% Frozen:2.5% Detergents_Paper:15.9% Delicassen:4.5% Tot:46662\n"
     ]
    }
   ],
   "source": [
    "# Print Output\n",
    "ArrHeader = header.split(\",\")\n",
    "for r in DataElab.take(10):\n",
    "    s = (\n",
    "        ArrHeader[0] + \":\" + str(r[0]) + \" \" +\n",
    "        ArrHeader[1] + \":\" + str(r[1]) + \" \" +\n",
    "        ArrHeader[2] + \":\" +  \"%.1f\" % r[2] + \"% \" +\n",
    "        ArrHeader[3] + \":\" +  \"%.1f\" % r[3] + \"% \" +\n",
    "        ArrHeader[4] + \":\" +  \"%.1f\" % r[4] + \"% \" +\n",
    "        ArrHeader[5] + \":\" +  \"%.1f\" % r[5] + \"% \" +\n",
    "        ArrHeader[6] + \":\" +  \"%.1f\" % r[6] + \"% \" +\n",
    "        ArrHeader[7] + \":\" +  \"%.1f\" % r[7] + \"% \" +\n",
    "        \"Tot:\" + str(r[8])\n",
    "    )\n",
    "    print(s)"
   ]
  },
  {
   "cell_type": "code",
   "execution_count": 7,
   "metadata": {
    "collapsed": false
   },
   "outputs": [],
   "source": [
    "# Prepare input for Clustering\n",
    "customer = DataElab.map(lambda t:Vectors.dense(t[2],t[3],t[4],t[5],t[6],t[7]))"
   ]
  },
  {
   "cell_type": "code",
   "execution_count": 8,
   "metadata": {
    "collapsed": false
   },
   "outputs": [
    {
     "data": {
      "text/plain": [
       "[DenseVector([37.1394, 28.3068, 22.1652, 0.6273, 7.8389, 3.9224]),\n",
       " DenseVector([21.2139, 29.4896, 28.7621, 5.2967, 9.899, 5.3388]),\n",
       " DenseVector([17.3532, 24.059, 20.9888, 6.5692, 9.6039, 21.4258]),\n",
       " DenseVector([48.446, 4.368, 15.4158, 23.3885, 1.8516, 6.5301]),\n",
       " DenseVector([49.0564, 11.7354, 15.6139, 8.4924, 3.8547, 11.2473])]"
      ]
     },
     "execution_count": 8,
     "metadata": {},
     "output_type": "execute_result"
    }
   ],
   "source": [
    "customer.take(5)"
   ]
  },
  {
   "cell_type": "markdown",
   "metadata": {
    "collapsed": true
   },
   "source": [
    "### Perform cluster analysis"
   ]
  },
  {
   "cell_type": "code",
   "execution_count": 9,
   "metadata": {
    "collapsed": false
   },
   "outputs": [],
   "source": [
    "numClusters = 5\n",
    "numIterations = 10\n",
    "model = KMeans.train(customer,numClusters,numIterations)"
   ]
  },
  {
   "cell_type": "code",
   "execution_count": 10,
   "metadata": {
    "collapsed": false
   },
   "outputs": [
    {
     "name": "stdout",
     "output_type": "stream",
     "text": [
      "[ 37.50162161  16.75122401  22.96756999  10.57693576   7.42249983\n",
      "   4.7801488 ]\n",
      "[ 615.91464442  127.8213886   214.40346148  127.84838545   65.16960087\n",
      "   19.05776257]\n",
      "[ 440.  440.  440.  440.  440.  440.]\n"
     ]
    }
   ],
   "source": [
    "summary = Statistics.colStats(customer)\n",
    "print(summary.mean()) # a dense vector containing the mean value for each column\n",
    "print(summary.variance()) # column-wise variance\n",
    "print(summary.numNonzeros()) # number of nonzeros in each column"
   ]
  },
  {
   "cell_type": "code",
   "execution_count": 11,
   "metadata": {
    "collapsed": false
   },
   "outputs": [
    {
     "name": "stdout",
     "output_type": "stream",
     "text": [
      "[ 72.54522884   5.65449568   8.0523073    9.26086246   1.26714443\n",
      "   3.21996128]\n",
      "[  8.21002176  24.53175011  42.73085515   3.66602478  17.17414329\n",
      "   3.68720491]\n",
      "[ 51.334056    13.00443804  17.52094303   9.44898919   3.87477459\n",
      "   4.81679915]\n",
      "[ 23.39303122  27.49066126  24.58413389   8.13247223   8.28761663\n",
      "   8.11208476]\n",
      "[ 33.42281643   9.48230723  14.06525948  35.84860446   2.69771329\n",
      "   4.48329911]\n"
     ]
    }
   ],
   "source": [
    "for cc in model.clusterCenters:\n",
    "    print(cc)"
   ]
  },
  {
   "cell_type": "code",
   "execution_count": 12,
   "metadata": {
    "collapsed": true
   },
   "outputs": [],
   "source": [
    "cusclu = model.predict(customer)"
   ]
  },
  {
   "cell_type": "code",
   "execution_count": 13,
   "metadata": {
    "collapsed": false
   },
   "outputs": [
    {
     "name": "stdout",
     "output_type": "stream",
     "text": [
      "3\n",
      "3\n",
      "3\n",
      "2\n",
      "2\n"
     ]
    }
   ],
   "source": [
    "for clu in cusclu.take(5):\n",
    "    print(clu)"
   ]
  },
  {
   "cell_type": "code",
   "execution_count": 14,
   "metadata": {
    "collapsed": false
   },
   "outputs": [
    {
     "ename": "AttributeError",
     "evalue": "'KMeansModel' object has no attribute 'toPMML'",
     "output_type": "error",
     "traceback": [
      "\u001b[1;31m---------------------------------------------------------------------------\u001b[0m",
      "\u001b[1;31mAttributeError\u001b[0m                            Traceback (most recent call last)",
      "\u001b[1;32m<ipython-input-14-7ed8daede90b>\u001b[0m in \u001b[0;36m<module>\u001b[1;34m()\u001b[0m\n\u001b[1;32m----> 1\u001b[1;33m \u001b[0mprint\u001b[0m\u001b[1;33m(\u001b[0m\u001b[1;34m\"PMML Model:\\n\"\u001b[0m \u001b[1;33m+\u001b[0m \u001b[0mmodel\u001b[0m\u001b[1;33m.\u001b[0m\u001b[0mtoPMML\u001b[0m\u001b[1;33m(\u001b[0m\u001b[1;33m)\u001b[0m\u001b[1;33m)\u001b[0m\u001b[1;33m\u001b[0m\u001b[0m\n\u001b[0m",
      "\u001b[1;31mAttributeError\u001b[0m: 'KMeansModel' object has no attribute 'toPMML'"
     ]
    }
   ],
   "source": [
    "print(\"PMML Model:\\n\" + model.toPMML())"
   ]
  }
 ],
 "metadata": {
  "kernelspec": {
   "display_name": "Python 3",
   "language": "python",
   "name": "python3"
  },
  "language_info": {
   "codemirror_mode": {
    "name": "ipython",
    "version": 3
   },
   "file_extension": ".py",
   "mimetype": "text/x-python",
   "name": "python",
   "nbconvert_exporter": "python",
   "pygments_lexer": "ipython3",
   "version": "3.4.4"
  }
 },
 "nbformat": 4,
 "nbformat_minor": 0
}
