{
 "cells": [
  {
   "cell_type": "markdown",
   "metadata": {},
   "source": [
    "# MRJob application template"
   ]
  },
  {
   "cell_type": "code",
   "execution_count": null,
   "metadata": {
    "collapsed": false
   },
   "outputs": [],
   "source": [
    "from mrjob.job import MRJob\n",
    "from mrjob.step import MRStep\n",
    "\n",
    "class MyMapReduce(MRJob):\n",
    "\n",
    "    def mapper(self, _, line):\n",
    "        ## Do something with line?\n",
    "        # columns = line.split()\n",
    "        # print columns\n",
    "        yield \"lines_number\", 1\n",
    "\n",
    "    def reducer(self, key, values):\n",
    "        yield key, sum(values)\n",
    "\n",
    "    def steps(self):\n",
    "        # Use what you need\n",
    "        return [MRStep( \\\n",
    "            #mapper_pre_filter='grep -v \"^@[^\\\\s]\\+\"',\n",
    "            mapper=self.mapper,\n",
    "            reducer=self.reducer,\n",
    "        )]\n",
    "\n",
    "# Main function\n",
    "if __name__ == \"__main__\":\n",
    "    MyMapReduce.run()"
   ]
  }
 ],
 "metadata": {
  "kernelspec": {
   "display_name": "Python 3",
   "language": "python",
   "name": "python3"
  },
  "language_info": {
   "codemirror_mode": {
    "name": "ipython",
    "version": 3
   },
   "file_extension": ".py",
   "mimetype": "text/x-python",
   "name": "python",
   "nbconvert_exporter": "python",
   "pygments_lexer": "ipython3",
   "version": "3.5.1"
  }
 },
 "nbformat": 4,
 "nbformat_minor": 0
}
