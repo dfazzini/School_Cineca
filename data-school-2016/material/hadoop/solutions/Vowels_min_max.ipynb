{
 "cells": [
  {
   "cell_type": "markdown",
   "metadata": {},
   "source": [
    "## Most used vowels in a text"
   ]
  },
  {
   "cell_type": "markdown",
   "metadata": {},
   "source": [
    "### Configuration"
   ]
  },
  {
   "cell_type": "code",
   "execution_count": null,
   "metadata": {
    "collapsed": false
   },
   "outputs": [],
   "source": [
    "mydir = \"mymrjob\"\n",
    "%env mydir = $mydir\n",
    "myinput = \"../data/txt/2261.txt.utf-8\"\n",
    "%env myinput $myinput\n",
    "myscript = mydir + \"/most_used_vowels.py\"\n",
    "%env myscript $myscript\n",
    "\n",
    "%system mkdir -p $mydir\n",
    "%env myoutput $mydir/out.txt\n",
    "%env mylog $mydir/out.log"
   ]
  },
  {
   "cell_type": "code",
   "execution_count": null,
   "metadata": {
    "collapsed": false
   },
   "outputs": [],
   "source": [
    "%%writefile $myscript\n",
    "\n",
    "from mrjob.job import MRJob\n",
    "from mrjob.step import MRStep\n",
    "import re\n",
    "\n",
    "\n",
    "class MRVowelsCount(MRJob):\n",
    "\n",
    "    WORD_RE = re.compile(r\"[\\w']+\")\n",
    "    \n",
    "    def mapper_get_vowels(self, _, line):\n",
    "        # yield each vowel in the line\n",
    "        for char in line.strip().lower():\n",
    "            if char in 'aeiou':\n",
    "                yield char, 1           \n",
    "                \n",
    "    def combiner_count_vowels(self, char, counts):\n",
    "        # optimization: sum the words we've seen so far\n",
    "        yield (char, sum(counts))\n",
    "\n",
    "    def reducer_count_vowels(self, char, counts):\n",
    "        # send all (num_occurrences, word) pairs to the same reducer.\n",
    "        # num_occurrences is so we can easily use Python's max() function.\n",
    "        yield None, (sum(counts), char)\n",
    "\n",
    "    # discard the key; it is just None\n",
    "    def reducer_find_max_vowels(self, _, char_count_pairs):\n",
    "        # each item of char_count_pairs is (char, word),\n",
    "        # so yielding one results in key=counts, value=char\n",
    "        yield max(char_count_pairs)\n",
    "\n",
    "    def steps(self):\n",
    "        return [\n",
    "            self.mr(mapper=self.mapper_get_vowels,\n",
    "                    combiner=self.combiner_count_vowels,\n",
    "                    reducer=self.reducer_count_vowels),\n",
    "            self.mr(reducer=self.reducer_find_max_vowels)\n",
    "        ]\n",
    "\n",
    "\n",
    "if __name__ == '__main__':\n",
    "    MRVowelsCount.run()"
   ]
  },
  {
   "cell_type": "markdown",
   "metadata": {},
   "source": [
    "### Execute the code"
   ]
  },
  {
   "cell_type": "code",
   "execution_count": null,
   "metadata": {
    "collapsed": true
   },
   "outputs": [],
   "source": [
    "! python $myscript $myinput 1> $myoutput 2> $mylog"
   ]
  },
  {
   "cell_type": "markdown",
   "metadata": {},
   "source": [
    "### Print Output"
   ]
  },
  {
   "cell_type": "code",
   "execution_count": null,
   "metadata": {
    "collapsed": false
   },
   "outputs": [],
   "source": [
    "%cat $myoutput"
   ]
  }
 ],
 "metadata": {
  "kernelspec": {
   "display_name": "Python 3",
   "language": "python",
   "name": "python3"
  },
  "language_info": {
   "codemirror_mode": {
    "name": "ipython",
    "version": 3
   },
   "file_extension": ".py",
   "mimetype": "text/x-python",
   "name": "python",
   "nbconvert_exporter": "python",
   "pygments_lexer": "ipython3",
   "version": "3.4.4"
  }
 },
 "nbformat": 4,
 "nbformat_minor": 0
}
