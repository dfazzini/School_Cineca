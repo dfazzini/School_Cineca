{
 "cells": [
  {
   "cell_type": "markdown",
   "metadata": {},
   "source": [
    "# Matrix Matrix multiplication using MrJob"
   ]
  },
  {
   "cell_type": "markdown",
   "metadata": {},
   "source": [
    "Input data should be in the form of \n",
    "\n",
    "i j     valuek\n",
    "\n",
    "i j+1   valuek+1\n",
    "\n",
    "i+1 j   valuek+2\n",
    "\n",
    "i+1 j+1 value k+3"
   ]
  },
  {
   "cell_type": "markdown",
   "metadata": {},
   "source": [
    "## Configuration "
   ]
  },
  {
   "cell_type": "code",
   "execution_count": null,
   "metadata": {
    "collapsed": false
   },
   "outputs": [],
   "source": [
    "mydir = \"mymrjob\"\n",
    "%env mydir = $mydir\n",
    "\n",
    "matA = \"data/mat/matmat_3x2_A\"\n",
    "matB = \"data/mat/matmat_2x2_B\"\n",
    "\n",
    "%env matA $matA\n",
    "%env matB $matB\n",
    "\n",
    "myscript = mydir + \"/matmat.py\"\n",
    "%env myscript $myscript\n",
    "\n",
    "%system mkdir -p $mydir\n",
    "%env myoutput $mydir/output\n",
    "%env mylog $mydir/log"
   ]
  },
  {
   "cell_type": "code",
   "execution_count": null,
   "metadata": {
    "collapsed": false,
    "scrolled": true
   },
   "outputs": [],
   "source": [
    "%%writefile $myscript\n",
    "\n",
    "import sys\n",
    "import random\n",
    "import numpy\n",
    "import pickle\n",
    "\n",
    "from mrjob.job import MRJob\n",
    "from mrjob.compat import jobconf_from_env\n",
    "# from mrjob.compat import get_jobconf_value --> MRJob < 0.5\n",
    "import os\n",
    "\n",
    "\n",
    "class MatMult(MRJob):\n",
    "\n",
    "    def configure_options(self):\n",
    "        super(MatMult, self).configure_options()\n",
    "        self.add_passthrough_option('--A-matrix', default='A', \n",
    "            dest='Amatname')\n",
    "\n",
    "    def parsemat(self):\n",
    "        \"\"\" Return 1 if this is the A matrix, otherwise return 2\"\"\"\n",
    "        # fn = get_jobconf_value('map.input.file')\n",
    "        fn = jobconf_from_env('map.input.file')\n",
    "        if self.options.Amatname in fn:\n",
    "            return 1\n",
    "        else:\n",
    "            return 2\n",
    "\n",
    "    def emit_values(self, _, line):\n",
    "        mtype = self.parsemat() \n",
    "        a, b, v = line.split()\n",
    "\n",
    "        v = float(v)\n",
    "        \n",
    "        if mtype == 1:\n",
    "            i = int(a)\n",
    "            j = int(b)\n",
    "            yield j, (0, i, v)\n",
    "        else:\n",
    "            j = int(a)\n",
    "            k = int(b)\n",
    "            yield j, (1, k, v)\n",
    "\n",
    "    def multiply_values(self, j, values):\n",
    "        values_from1 = []\n",
    "        values_from2 = []\n",
    "        \n",
    "        for v in values:\n",
    "            if v[0] == 0:\n",
    "                values_from1.append(v)\n",
    "            elif v[0] == 1:\n",
    "                values_from2.append(v)\n",
    "\n",
    "\n",
    "        for (m, i, v1) in values_from1:\n",
    "            for (m, k, v2) in values_from2:\n",
    "                 yield (i, k), v1*v2\n",
    "\n",
    "\n",
    "    def identity(self, k, v):\n",
    "        yield k, v\n",
    "\n",
    "    def add_values(self, k, values):\n",
    "        yield k, sum(values)\n",
    "\n",
    "\n",
    "    def steps(self):\n",
    "        return [self.mr(mapper=self.emit_values,\n",
    "                        reducer=self.multiply_values),\n",
    "                # self.mr(mapper=self.identity,\n",
    "        self.mr(reducer=self.add_values)]\n",
    "\n",
    "if __name__ == '__main__':\n",
    "    MatMult.run()"
   ]
  },
  {
   "cell_type": "markdown",
   "metadata": {},
   "source": [
    "### Execute the code"
   ]
  },
  {
   "cell_type": "code",
   "execution_count": null,
   "metadata": {
    "collapsed": true
   },
   "outputs": [],
   "source": [
    "# ! python $myscript $matA $matB 1> $myoutput 2> $mylog"
   ]
  },
  {
   "cell_type": "markdown",
   "metadata": {},
   "source": [
    "### Show Output"
   ]
  },
  {
   "cell_type": "code",
   "execution_count": null,
   "metadata": {
    "collapsed": false
   },
   "outputs": [],
   "source": [
    "# %cat $myoutput\n",
    "# %cat $mylog"
   ]
  },
  {
   "cell_type": "markdown",
   "metadata": {},
   "source": [
    "### Additional credits\n",
    "\n",
    "Jure Leskovec Stanford Univ.\n",
    "\n",
    "Anand Rajaraman Milliway Labs\n",
    "\n",
    "Jeffrey D. Ullman Stanford Univ."
   ]
  }
 ],
 "metadata": {
  "kernelspec": {
   "display_name": "Python 3",
   "language": "python",
   "name": "python3"
  },
  "language_info": {
   "codemirror_mode": {
    "name": "ipython",
    "version": 2
   },
   "file_extension": ".py",
   "mimetype": "text/x-python",
   "name": "python",
   "nbconvert_exporter": "python",
   "pygments_lexer": "ipython2",
   "version": "2.7.11"
  }
 },
 "nbformat": 4,
 "nbformat_minor": 0
}
