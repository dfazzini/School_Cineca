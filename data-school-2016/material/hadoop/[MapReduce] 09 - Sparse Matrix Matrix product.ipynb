{
 "cells": [
  {
   "cell_type": "markdown",
   "metadata": {},
   "source": [
    "# Sparse Matrix Matrix multiplication using MrJob"
   ]
  },
  {
   "cell_type": "markdown",
   "metadata": {},
   "source": [
    "Input data should be in the form of \n",
    "\n",
    "i j     valuek\n",
    "\n",
    "i j+1   valuek+1\n",
    "\n",
    "i+1 j   valuek+2\n",
    "\n",
    "i+1 j+1 value k+3"
   ]
  },
  {
   "cell_type": "markdown",
   "metadata": {},
   "source": [
    "## Configuration "
   ]
  },
  {
   "cell_type": "code",
   "execution_count": null,
   "metadata": {
    "collapsed": false
   },
   "outputs": [],
   "source": [
    "mydir = \"mymrjob\"\n",
    "%env mydir = $mydir\n",
    "\n",
    "matA = \"data/mat/smat_100x10_A\"\n",
    "matB = \"data/mat/smat_10x200_B\"\n",
    "\n",
    "%env matA $matA\n",
    "%env matB $matB\n",
    "\n",
    "myscript = mydir + \"/sparse_matmat.py\"\n",
    "%env myscript $myscript\n",
    "\n",
    "%system mkdir -p $mydir\n",
    "%env myoutput $mydir/output\n",
    "%env mylog $mydir/log"
   ]
  },
  {
   "cell_type": "code",
   "execution_count": null,
   "metadata": {
    "collapsed": false,
    "scrolled": true
   },
   "outputs": [],
   "source": [
    "%%writefile $myscript\n",
    "\n",
    "from mrjob.job import MRJob\n",
    "from mrjob.compat import jobconf_from_env\n",
    "import itertools\n",
    "import sys\n",
    "\n",
    "class SparseMatMult(MRJob):\n",
    "    \"\"\" First, join the two matrices based on columns, then output\n",
    "    the cartesian product of the columns, which forms the input for\n",
    "    the product. \"\"\"\n",
    "    \n",
    "    def configure_options(self):\n",
    "        super(SparseMatMult,self).configure_options()\n",
    "        self.add_passthrough_option('--A-matrix',default='A',\n",
    "            dest='Amatname')\n",
    "    \n",
    "    def parsemat(self):\n",
    "        \"\"\" Return 1 if this is the A matrix, otherwise return 2\"\"\"\n",
    "        fn = jobconf_from_env('map.input.file')\n",
    "        if self.options.Amatname in fn: \n",
    "            return 1\n",
    "        else:\n",
    "            return 2\n",
    "    \n",
    "    def joinmap(self, key, line):\n",
    "        mtype = self.parsemat()\n",
    "        vals = [float(v) for v in  line.split()]\n",
    "        row = int(vals[0])\n",
    "        rowvals = [(int(vals[i]),vals[i+1]) for i in range(1,len(vals),2)]\n",
    "        if mtype==1:\n",
    "            # rowvals are the entries in the row\n",
    "            # we output the entire row for each column\n",
    "            for val in rowvals:\n",
    "                # sys.stdout.write(\"Key Mat A column, row, value: ({0}, {1}, {2})\\n\".format(val[0], row, val[1]))\n",
    "                yield (val[0], (row, val[1]))\n",
    "        else:\n",
    "            # sys.stdout.write(\"Key Mat B row, values: ({0}, {1})\\n\".format(row, rowvals))\n",
    "            yield (row, (rowvals,))\n",
    "            \n",
    "    def joinred(self, key, vals):\n",
    "        # each key is a column of the matrix.\n",
    "        # and there are two types of values:\n",
    "        #  len == 2 (1, row, A_row,key) # a column of A\n",
    "        #  len == 1 rowvals # a row of B\n",
    "        \n",
    "        # load the data into memory       \n",
    "        brow = []\n",
    "        acol = []\n",
    "\n",
    "        for val in vals:\n",
    "            if len(val) == 1:\n",
    "                brow.extend(val[0])\n",
    "            else:\n",
    "                acol.append(val)\n",
    "        \n",
    "        for (bcol,bval) in brow:\n",
    "            for (arow,aval) in acol:\n",
    "                # sys.stdout.write(\"Keys values : ({0},{1},{2},{3})\\n\".format(arow,bcol, aval, bval))\n",
    "                yield ((arow,bcol), aval*bval)\n",
    "    \n",
    "    def sumred(self, key, vals):\n",
    "        # sys.stdout.write(\"Keys : ({0})\\n\".format(key))\n",
    "        yield (key, sum(vals))\n",
    "        \n",
    "    def rowgroupmap(self, key, val):\n",
    "        # sys.stdout.write(\"Keys : ({0},{1})\\n\".format(key[0], key[1]))\n",
    "        yield key[0], (key[1], val)\n",
    "        \n",
    "    def appendred(self, key, vals):\n",
    "        yield key, list(itertools.chain.from_iterable(vals))\n",
    "        \n",
    "    def steps(self):\n",
    "        return [self.mr(mapper=self.joinmap, reducer=self.joinred),\n",
    "            self.mr(mapper=None, reducer=self.sumred),\n",
    "            self.mr(mapper=self.rowgroupmap, reducer=self.appendred)]\n",
    "\n",
    "if __name__=='__main__':\n",
    "    SparseMatMult.run()"
   ]
  },
  {
   "cell_type": "markdown",
   "metadata": {},
   "source": [
    "### Execute the code"
   ]
  },
  {
   "cell_type": "code",
   "execution_count": null,
   "metadata": {
    "collapsed": true
   },
   "outputs": [],
   "source": [
    "# ! python $myscript $matA $matB 1> $myoutput 2> $mylog"
   ]
  },
  {
   "cell_type": "markdown",
   "metadata": {},
   "source": [
    "### Show Output"
   ]
  },
  {
   "cell_type": "code",
   "execution_count": null,
   "metadata": {
    "collapsed": false
   },
   "outputs": [],
   "source": [
    "%cat $myoutput\n",
    "# %cat $mylog"
   ]
  },
  {
   "cell_type": "markdown",
   "metadata": {},
   "source": [
    "### Additional credits\n",
    "\n",
    "Jure Leskovec Stanford Univ.\n",
    "\n",
    "Anand Rajaraman Milliway Labs\n",
    "\n",
    "Jeffrey D. Ullman Stanford Univ."
   ]
  }
 ],
 "metadata": {
  "kernelspec": {
   "display_name": "Python 3",
   "language": "python",
   "name": "python3"
  },
  "language_info": {
   "codemirror_mode": {
    "name": "ipython",
    "version": 2
   },
   "file_extension": ".py",
   "mimetype": "text/x-python",
   "name": "python",
   "nbconvert_exporter": "python",
   "pygments_lexer": "ipython2",
   "version": "2.7.11"
  }
 },
 "nbformat": 4,
 "nbformat_minor": 0
}
