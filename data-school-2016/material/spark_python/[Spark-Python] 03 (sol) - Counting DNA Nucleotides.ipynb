{
 "cells": [
  {
   "cell_type": "markdown",
   "metadata": {
    "slideshow": {
     "slide_type": "slide"
    }
   },
   "source": [
    "# Counting DNA Nucleotides\n",
    "http://rosalind.info/problems/dna/"
   ]
  },
  {
   "cell_type": "code",
   "execution_count": null,
   "metadata": {
    "collapsed": false,
    "slideshow": {
     "slide_type": "slide"
    }
   },
   "outputs": [],
   "source": [
    "from pyspark import SparkConf, SparkContext\n",
    "conf = SparkConf()\n",
    "sc = SparkContext(conf=conf)\n",
    "'''\n",
    "if a spark context is already available this snippet fails\n",
    "'''\n",
    "#PATH = \"/notebooks/cineca/\""
   ]
  },
  {
   "cell_type": "markdown",
   "metadata": {
    "slideshow": {
     "slide_type": "slide"
    }
   },
   "source": [
    "## Problem 1\n",
    "A string is simply an ordered collection of symbols selected from some alphabet and formed into a word; the length of a string is the number of symbols that it contains.\n",
    "\n",
    "An example of a length 21 DNA string (whose alphabet contains the symbols 'A', 'C', 'G', and 'T') is **\"ATGCTTCAGAAAGGTCTTACG\"**.\n",
    "\n",
    "_Given_: **S** a DNA string of of 1000 nucleotides.\n",
    "\n",
    "_Return_: Four integers (separated by spaces) counting the respective number of times that the symbols **'A'**, **'C'**, **'G'**, and **'T'** occur in **S**."
   ]
  },
  {
   "cell_type": "code",
   "execution_count": null,
   "metadata": {
    "collapsed": true,
    "slideshow": {
     "slide_type": "subslide"
    }
   },
   "outputs": [],
   "source": [
    "stringa = 'AGCTTTTCATTCTGACTGCAACGGGCAATATGTCTCTGTGTGGATTAAAAAAAGAGTGTCTGATAGCAGC'\n",
    "data = sc.parallelize(stringa)"
   ]
  },
  {
   "cell_type": "code",
   "execution_count": null,
   "metadata": {
    "collapsed": false,
    "slideshow": {
     "slide_type": "fragment"
    }
   },
   "outputs": [],
   "source": [
    "data.map(lambda word: (word, 1))\\\n",
    "    .reduceByKey(lambda a, b: a + b)\\\n",
    "    .collect()"
   ]
  },
  {
   "cell_type": "markdown",
   "metadata": {
    "slideshow": {
     "slide_type": "slide"
    }
   },
   "source": [
    "## Problem 2\n",
    "\n",
    "A RNA string is a string formed from the alphabet containing 'A', 'C', 'G', and 'U' characters.\n",
    "Given a DNA string **T** corresponding to a coding strand, its transcribed RNA string *U* is formed by replacing all occurrences of 'T' in T with 'U' in U.\n",
    "\n",
    "Given: A DNA string **T** of 1000 nucleotides.\n",
    "\n",
    "Return: The transcribed RNA string of **T**."
   ]
  },
  {
   "cell_type": "code",
   "execution_count": null,
   "metadata": {
    "collapsed": true,
    "slideshow": {
     "slide_type": "subslide"
    }
   },
   "outputs": [],
   "source": [
    "stringa = 'GATGGAACTTGACTACGTAAATT'\n",
    "data = sc.parallelize(stringa)"
   ]
  },
  {
   "cell_type": "code",
   "execution_count": null,
   "metadata": {
    "collapsed": false,
    "slideshow": {
     "slide_type": "fragment"
    }
   },
   "outputs": [],
   "source": [
    "data = data.map(lambda x: 'U' if (x == 'T') else x)\n",
    "#data.collect()"
   ]
  },
  {
   "cell_type": "markdown",
   "metadata": {
    "slideshow": {
     "slide_type": "slide"
    }
   },
   "source": [
    "## Problem 3\n",
    "\n",
    "Figure 2. The Hamming distance between these two strings is 7. Mismatched symbols are colored red.\n",
    "Given two strings **S** and **T** of equal length, the Hamming distance between S and T, denoted dH(s,t), is the number of corresponding symbols that differ in S and T\n",
    "\n",
    "Given: Two DNA strings S and T of equal length (not exceeding 1 kbp).\n",
    "\n",
    "Return: The Hamming distance dH(s,t)\n",
    "\n",
    "<img align=left src=\"./data/Hamming_distance.png\" width=500 height=500 />\n"
   ]
  },
  {
   "cell_type": "code",
   "execution_count": null,
   "metadata": {
    "collapsed": true,
    "slideshow": {
     "slide_type": "slide"
    }
   },
   "outputs": [],
   "source": [
    "stringa1 = 'GAGCCTACTAACGGGAT'\n",
    "data1 = sc.parallelize(stringa1)\n",
    "\n",
    "stringa2 = 'CATCGTAATGACGGCCT'\n",
    "data2 = sc.parallelize(stringa2)"
   ]
  },
  {
   "cell_type": "code",
   "execution_count": null,
   "metadata": {
    "collapsed": false,
    "slideshow": {
     "slide_type": "fragment"
    }
   },
   "outputs": [],
   "source": [
    "data1.zip(data2).filter(lambda x: x[0]!=x[1]).count()"
   ]
  },
  {
   "cell_type": "markdown",
   "metadata": {
    "slideshow": {
     "slide_type": "fragment"
    }
   },
   "source": [
    "```\n",
    "The **zip()** function returns a list of tuples, where the i-th tuple contains the i-th element from each of the argument sequences or iterables. The returned list is truncated in length to the length of the shortest argument sequence.\n",
    "```"
   ]
  },
  {
   "cell_type": "markdown",
   "metadata": {
    "slideshow": {
     "slide_type": "slide"
    }
   },
   "source": [
    "# End of this chapter"
   ]
  }
 ],
 "metadata": {
  "celltoolbar": "Slideshow",
  "kernelspec": {
   "display_name": "Python 3",
   "language": "python",
   "name": "python3"
  },
  "language_info": {
   "codemirror_mode": {
    "name": "ipython",
    "version": 3
   },
   "file_extension": ".py",
   "mimetype": "text/x-python",
   "name": "python",
   "nbconvert_exporter": "python",
   "pygments_lexer": "ipython3",
   "version": "3.4.4"
  }
 },
 "nbformat": 4,
 "nbformat_minor": 0
}
